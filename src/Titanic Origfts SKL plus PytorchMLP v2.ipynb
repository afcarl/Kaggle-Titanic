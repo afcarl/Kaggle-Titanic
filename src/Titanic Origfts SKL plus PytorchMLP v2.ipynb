{
 "cells": [
  {
   "cell_type": "code",
   "execution_count": 3,
   "metadata": {
    "ExecuteTime": {
     "end_time": "2018-12-13T13:45:58.909196Z",
     "start_time": "2018-12-13T13:45:58.903436Z"
    },
    "pixiedust": {
     "displayParams": {}
    }
   },
   "outputs": [],
   "source": [
    "import pixiedust\n",
    "from matplotlib import pyplot as plt\n",
    "import seaborn as sns\n",
    "import numpy as np\n",
    "import pandas as pd\n",
    "from keras.layers import *\n",
    "import sys, os\n",
    "import pickle\n",
    "from collections import OrderedDict as ODict\n",
    "\n",
    "# %pixie_debugger\n",
    "%matplotlib inline\n",
    "sns.set(style='white', context='notebook', palette='tab10')"
   ]
  },
  {
   "cell_type": "markdown",
   "metadata": {},
   "source": [
    "## Import and Check data"
   ]
  },
  {
   "cell_type": "code",
   "execution_count": 9,
   "metadata": {
    "ExecuteTime": {
     "end_time": "2018-12-13T13:49:49.114100Z",
     "start_time": "2018-12-13T13:49:49.098808Z"
    }
   },
   "outputs": [
    {
     "name": "stdout",
     "output_type": "stream",
     "text": [
      "found file: train.csv\n",
      "found file: test.csv\n",
      "found file: gender_submission.csv\n",
      "skipping directory ./exported\n"
     ]
    },
    {
     "data": {
      "text/plain": [
       "(odict_keys(['train.csv', 'test.csv', 'gender_submission.csv']),\n",
       " ['train.csv', 'test.csv', 'gender_submission.csv'])"
      ]
     },
     "execution_count": 9,
     "metadata": {},
     "output_type": "execute_result"
    }
   ],
   "source": [
    "datadir = os.getcwd() + '/../data'\n",
    "datadict, filenames = ODict(), []\n",
    "for files in os.listdir(datadir):\n",
    "    try:\n",
    "        with open(datadir + '/' + files, mode='r') as csvfile:\n",
    "            datadict[files] = pd.read_csv(csvfile, header=0, encoding='ascii')\n",
    "            csvfile.close()\n",
    "        print('found file: {}'.format(files))\n",
    "        filenames.append(files)\n",
    "    except IsADirectoryError:\n",
    "        print('skipping directory ./{}'.format(files))\n",
    "\n",
    "datadict.keys(), filenames"
   ]
  },
  {
   "cell_type": "code",
   "execution_count": 10,
   "metadata": {
    "ExecuteTime": {
     "end_time": "2018-12-13T13:49:57.861893Z",
     "start_time": "2018-12-13T13:49:57.854862Z"
    }
   },
   "outputs": [
    {
     "name": "stdout",
     "output_type": "stream",
     "text": [
      "891 Rows\n",
      "<class 'pandas.core.frame.DataFrame'>\n",
      "RangeIndex: 891 entries, 0 to 890\n",
      "Data columns (total 12 columns):\n",
      "PassengerId    891 non-null int64\n",
      "Survived       891 non-null int64\n",
      "Pclass         891 non-null int64\n",
      "Name           891 non-null object\n",
      "Sex            891 non-null object\n",
      "Age            714 non-null float64\n",
      "SibSp          891 non-null int64\n",
      "Parch          891 non-null int64\n",
      "Ticket         891 non-null object\n",
      "Fare           891 non-null float64\n",
      "Cabin          204 non-null object\n",
      "Embarked       889 non-null object\n",
      "dtypes: float64(2), int64(5), object(5)\n",
      "memory usage: 83.6+ KB\n"
     ]
    }
   ],
   "source": [
    "# %%\n",
    "# Print out data, for quick look.\n",
    "\n",
    "genderdata = datadict[filenames[-1]]\n",
    "traindata = datadict[filenames[0]]\n",
    "testdata = datadict[filenames[1]]\n",
    "\n",
    "print(traindata.shape[0],\"Rows\")\n",
    "traindata.info()"
   ]
  },
  {
   "cell_type": "code",
   "execution_count": 11,
   "metadata": {
    "ExecuteTime": {
     "end_time": "2018-12-13T13:49:59.837469Z",
     "start_time": "2018-12-13T13:49:59.830414Z"
    }
   },
   "outputs": [
    {
     "name": "stdout",
     "output_type": "stream",
     "text": [
      "<class 'pandas.core.frame.DataFrame'>\n",
      "RangeIndex: 418 entries, 0 to 417\n",
      "Data columns (total 11 columns):\n",
      "PassengerId    418 non-null int64\n",
      "Pclass         418 non-null int64\n",
      "Name           418 non-null object\n",
      "Sex            418 non-null object\n",
      "Age            332 non-null float64\n",
      "SibSp          418 non-null int64\n",
      "Parch          418 non-null int64\n",
      "Ticket         418 non-null object\n",
      "Fare           417 non-null float64\n",
      "Cabin          91 non-null object\n",
      "Embarked       418 non-null object\n",
      "dtypes: float64(2), int64(4), object(5)\n",
      "memory usage: 36.0+ KB\n"
     ]
    }
   ],
   "source": [
    "testdata.set_index('PassengerId')\n",
    "testdata.info()"
   ]
  },
  {
   "cell_type": "code",
   "execution_count": 12,
   "metadata": {
    "ExecuteTime": {
     "end_time": "2018-12-13T13:50:01.672732Z",
     "start_time": "2018-12-13T13:50:01.666989Z"
    }
   },
   "outputs": [
    {
     "name": "stdout",
     "output_type": "stream",
     "text": [
      "<class 'pandas.core.frame.DataFrame'>\n",
      "RangeIndex: 418 entries, 0 to 417\n",
      "Data columns (total 2 columns):\n",
      "PassengerId    418 non-null int64\n",
      "Survived       418 non-null int64\n",
      "dtypes: int64(2)\n",
      "memory usage: 6.6 KB\n"
     ]
    }
   ],
   "source": [
    "genderdata.info()"
   ]
  },
  {
   "cell_type": "code",
   "execution_count": 13,
   "metadata": {
    "ExecuteTime": {
     "end_time": "2018-12-13T13:50:03.206975Z",
     "start_time": "2018-12-13T13:50:03.190890Z"
    }
   },
   "outputs": [
    {
     "data": {
      "text/plain": [
       "PassengerId      1.000000\n",
       "Survived       445.500000\n",
       "Pclass         297.000000\n",
       "Name             1.000000\n",
       "Sex            445.500000\n",
       "Age             10.125000\n",
       "SibSp          127.285714\n",
       "Parch          127.285714\n",
       "Ticket           1.308370\n",
       "Fare             3.592742\n",
       "Cabin            6.061224\n",
       "Embarked       297.000000\n",
       "dtype: float64"
      ]
     },
     "execution_count": 13,
     "metadata": {},
     "output_type": "execute_result"
    }
   ],
   "source": [
    "# check sample sizes per class per column\n",
    "len(traindata)/traindata.nunique()"
   ]
  },
  {
   "cell_type": "markdown",
   "metadata": {},
   "source": [
    "## Exploratory data analysis"
   ]
  },
  {
   "cell_type": "code",
   "execution_count": 14,
   "metadata": {
    "ExecuteTime": {
     "end_time": "2018-12-13T13:50:03.954072Z",
     "start_time": "2018-12-13T13:50:03.932674Z"
    }
   },
   "outputs": [
    {
     "data": {
      "text/html": [
       "<div>\n",
       "<style scoped>\n",
       "    .dataframe tbody tr th:only-of-type {\n",
       "        vertical-align: middle;\n",
       "    }\n",
       "\n",
       "    .dataframe tbody tr th {\n",
       "        vertical-align: top;\n",
       "    }\n",
       "\n",
       "    .dataframe thead th {\n",
       "        text-align: right;\n",
       "    }\n",
       "</style>\n",
       "<table border=\"1\" class=\"dataframe\">\n",
       "  <thead>\n",
       "    <tr style=\"text-align: right;\">\n",
       "      <th></th>\n",
       "      <th>Training NaNs</th>\n",
       "      <th>Test NaNs</th>\n",
       "    </tr>\n",
       "    <tr>\n",
       "      <th>Metric</th>\n",
       "      <th></th>\n",
       "      <th></th>\n",
       "    </tr>\n",
       "  </thead>\n",
       "  <tbody>\n",
       "    <tr>\n",
       "      <th>Age</th>\n",
       "      <td>19.865320</td>\n",
       "      <td>20.574163</td>\n",
       "    </tr>\n",
       "    <tr>\n",
       "      <th>Cabin</th>\n",
       "      <td>77.104377</td>\n",
       "      <td>78.229665</td>\n",
       "    </tr>\n",
       "    <tr>\n",
       "      <th>Embarked</th>\n",
       "      <td>0.224467</td>\n",
       "      <td>NaN</td>\n",
       "    </tr>\n",
       "    <tr>\n",
       "      <th>Fare</th>\n",
       "      <td>NaN</td>\n",
       "      <td>0.239234</td>\n",
       "    </tr>\n",
       "  </tbody>\n",
       "</table>\n",
       "</div>"
      ],
      "text/plain": [
       "          Training NaNs  Test NaNs\n",
       "Metric                            \n",
       "Age           19.865320  20.574163\n",
       "Cabin         77.104377  78.229665\n",
       "Embarked       0.224467        NaN\n",
       "Fare                NaN   0.239234"
      ]
     },
     "execution_count": 14,
     "metadata": {},
     "output_type": "execute_result"
    }
   ],
   "source": [
    "train_nulls = (traindata.isnull().sum() / len(traindata)) * 100\n",
    "train_nulls = train_nulls.drop(train_nulls[train_nulls == 0].index)\n",
    "test_nulls = (testdata.isnull().sum() / len(testdata)) * 100\n",
    "test_nulls = test_nulls.drop(test_nulls[test_nulls == 0].index)\n",
    "train_missing = pd.DataFrame({'Training NaNs' :train_nulls})\n",
    "train_missing.index.name = 'Metric'\n",
    "test_missing = (pd.DataFrame({'Test NaNs' :test_nulls}))\n",
    "test_missing.index.name = 'Metric'\n",
    "all_missing = pd.merge(train_missing, test_missing, on='Metric', how='outer')\n",
    "all_missing.head()"
   ]
  },
  {
   "cell_type": "code",
   "execution_count": 15,
   "metadata": {
    "ExecuteTime": {
     "end_time": "2018-12-13T13:50:04.238339Z",
     "start_time": "2018-12-13T13:50:04.232499Z"
    }
   },
   "outputs": [],
   "source": [
    "# Fill empty's with NaNs\n",
    "traindata = traindata.fillna(np.nan)\n",
    "testdata = testdata.fillna(np.nan)"
   ]
  },
  {
   "cell_type": "markdown",
   "metadata": {},
   "source": [
    "### Exploring our Variables\n",
    "\n",
    "    * PassengerId -> Ignore\n",
    "    * Pclass -> Categorical -> Survival Probability\n",
    "    * Name -> Categorical with Title (after Extraction) -> Survival Probability\n",
    "    * Sex -> Categorical -> Survival Probability\n",
    "    * Age -> Continous / Categorical (Binned) -> Survival Probability\n",
    "    * SibSP -> Categorical -> Survival Probability\n",
    "    * Parch -> Categorical -> Survival Probability\n",
    "    * Ticket -> ? -> Needs Features\n",
    "    * Fare -> Continous / Categorical (Binned) -> Survival Probability\n",
    "    * Cabin -> ? (Deck | Deck Position | ?) -> Needs Features\n",
    "    * Embarked -> Categorical -> Survival Probability"
   ]
  },
  {
   "cell_type": "code",
   "execution_count": 16,
   "metadata": {
    "ExecuteTime": {
     "end_time": "2018-12-13T13:50:04.768786Z",
     "start_time": "2018-12-13T13:50:04.561677Z"
    }
   },
   "outputs": [
    {
     "data": {
      "text/html": [
       "<div>\n",
       "<style scoped>\n",
       "    .dataframe tbody tr th:only-of-type {\n",
       "        vertical-align: middle;\n",
       "    }\n",
       "\n",
       "    .dataframe tbody tr th {\n",
       "        vertical-align: top;\n",
       "    }\n",
       "\n",
       "    .dataframe thead th {\n",
       "        text-align: right;\n",
       "    }\n",
       "</style>\n",
       "<table border=\"1\" class=\"dataframe\">\n",
       "  <thead>\n",
       "    <tr style=\"text-align: right;\">\n",
       "      <th></th>\n",
       "      <th>Survived</th>\n",
       "    </tr>\n",
       "    <tr>\n",
       "      <th>Pclass</th>\n",
       "      <th></th>\n",
       "    </tr>\n",
       "  </thead>\n",
       "  <tbody>\n",
       "    <tr>\n",
       "      <th>3</th>\n",
       "      <td>491</td>\n",
       "    </tr>\n",
       "    <tr>\n",
       "      <th>1</th>\n",
       "      <td>216</td>\n",
       "    </tr>\n",
       "    <tr>\n",
       "      <th>2</th>\n",
       "      <td>184</td>\n",
       "    </tr>\n",
       "  </tbody>\n",
       "</table>\n",
       "</div>"
      ],
      "text/plain": [
       "        Survived\n",
       "Pclass          \n",
       "3            491\n",
       "1            216\n",
       "2            184"
      ]
     },
     "execution_count": 16,
     "metadata": {},
     "output_type": "execute_result"
    },
    {
     "data": {
      "image/png": "[encoded data removed]",
      "text/plain": [
       "<Figure size 432x288 with 1 Axes>"
      ]
     },
     "metadata": {},
     "output_type": "display_data"
    }
   ],
   "source": [
    "# Pclass\n",
    "ax_pc = sns.countplot(x='Pclass',\n",
    "                   hue=\"Survived\",\n",
    "                   data=traindata)\n",
    "\n",
    "traindata[['Pclass',\n",
    "           'Survived']].groupby('Pclass').count().sort_values(by='Survived',\n",
    "                                                                    ascending=False)"
   ]
  },
  {
   "cell_type": "code",
   "execution_count": 17,
   "metadata": {
    "ExecuteTime": {
     "end_time": "2018-12-13T13:50:05.200408Z",
     "start_time": "2018-12-13T13:50:05.048039Z"
    }
   },
   "outputs": [
    {
     "name": "stderr",
     "output_type": "stream",
     "text": [
      "/home/alk/.anaconda/envs/dsci/lib/python3.6/site-packages/scipy/stats/stats.py:1713: FutureWarning: Using a non-tuple sequence for multidimensional indexing is deprecated; use `arr[tuple(seq)]` instead of `arr[seq]`. In the future this will be interpreted as an array index, `arr[np.array(seq)]`, which will result either in an error or a different result.\n",
      "  return np.add.reduce(sorted[indexer] * weights, axis=axis) / sumval\n"
     ]
    },
    {
     "data": {
      "text/html": [
       "<div>\n",
       "<style scoped>\n",
       "    .dataframe tbody tr th:only-of-type {\n",
       "        vertical-align: middle;\n",
       "    }\n",
       "\n",
       "    .dataframe tbody tr th {\n",
       "        vertical-align: top;\n",
       "    }\n",
       "\n",
       "    .dataframe thead th {\n",
       "        text-align: right;\n",
       "    }\n",
       "</style>\n",
       "<table border=\"1\" class=\"dataframe\">\n",
       "  <thead>\n",
       "    <tr style=\"text-align: right;\">\n",
       "      <th></th>\n",
       "      <th>Survived</th>\n",
       "    </tr>\n",
       "    <tr>\n",
       "      <th>Pclass</th>\n",
       "      <th></th>\n",
       "    </tr>\n",
       "  </thead>\n",
       "  <tbody>\n",
       "    <tr>\n",
       "      <th>1</th>\n",
       "      <td>0.629630</td>\n",
       "    </tr>\n",
       "    <tr>\n",
       "      <th>2</th>\n",
       "      <td>0.472826</td>\n",
       "    </tr>\n",
       "    <tr>\n",
       "      <th>3</th>\n",
       "      <td>0.242363</td>\n",
       "    </tr>\n",
       "  </tbody>\n",
       "</table>\n",
       "</div>"
      ],
      "text/plain": [
       "        Survived\n",
       "Pclass          \n",
       "1       0.629630\n",
       "2       0.472826\n",
       "3       0.242363"
      ]
     },
     "execution_count": 17,
     "metadata": {},
     "output_type": "execute_result"
    },
    {
     "data": {
      "image/png": "[encoded data removed]",
      "text/plain": [
       "<Figure size 432x288 with 1 Axes>"
      ]
     },
     "metadata": {},
     "output_type": "display_data"
    }
   ],
   "source": [
    "ax_pp = sns.barplot(x='Pclass',\n",
    "                   y='Survived',\n",
    "                   data=traindata)\n",
    "\n",
    "ax_pp.set_ylabel(\"Survival Probability\")\n",
    "\n",
    "traindata[['Pclass',\n",
    "           'Survived']].groupby(['Pclass']).mean().sort_values(by='Survived',\n",
    "                                                             ascending=False)"
   ]
  },
  {
   "cell_type": "code",
   "execution_count": 18,
   "metadata": {
    "ExecuteTime": {
     "end_time": "2018-12-13T13:50:05.493665Z",
     "start_time": "2018-12-13T13:50:05.486153Z"
    }
   },
   "outputs": [],
   "source": [
    "# Names\n",
    "\n",
    "Prefixes = ['Mr.','Mrs.',\n",
    "            'Master.','Miss.',\n",
    "            'Don.','Dr.','Rev.',\n",
    "            'Col.','Major.',\n",
    "            'Ms.','Mme.','Lady.',\n",
    "            'Sir.','Mlle.','Countess.',\n",
    "            'Capt.','Jonkheer.']\n",
    "\n",
    "def apply_prefix(s) -> str:\n",
    "    \n",
    "    Prefixes = ['Mr.','Mrs.','Master.','Miss.',\n",
    "                'Don.','Dr.','Rev.','Col.',\n",
    "                'Major.','Ms.','Mme.','Lady.',\n",
    "                'Sir.','Mlle.','Countess.','Capt.','Jonkheer.']\n",
    "    \n",
    "    for _pf_ in Prefixes:\n",
    "        if _pf_ in s:\n",
    "            return _pf_\n",
    "    return None\n",
    "\n",
    "Pf_data = traindata.loc[:,('Name','Survived')]\n",
    "Pf_data['Prefix'] = traindata.copy().loc[:,'Name'].astype(str).apply(apply_prefix) "
   ]
  },
  {
   "cell_type": "code",
   "execution_count": 19,
   "metadata": {
    "ExecuteTime": {
     "end_time": "2018-12-13T13:50:06.002479Z",
     "start_time": "2018-12-13T13:50:05.777985Z"
    }
   },
   "outputs": [
    {
     "data": {
      "text/plain": [
       "Text(0, 0.5, 'Survival Probability by Title')"
      ]
     },
     "execution_count": 19,
     "metadata": {},
     "output_type": "execute_result"
    },
    {
     "data": {
      "image/png": "[encoded data removed]",
      "text/plain": [
       "<Figure size 864x576 with 1 Axes>"
      ]
     },
     "metadata": {},
     "output_type": "display_data"
    }
   ],
   "source": [
    "P = Pf_data[['Prefix',\n",
    "             'Survived']].groupby('Prefix').mean().sort_values(by='Survived',\n",
    "                                                               ascending=False) * 100\n",
    "C = Pf_data[['Prefix',\n",
    "             'Survived']].groupby('Prefix').count().sort_values(by='Survived',\n",
    "                                                                ascending=False)\n",
    "byNames = pd.merge(P,C,how='outer',on='Prefix')\n",
    "byNames.columns = ['Survived(%)','Survived(N)']\n",
    "byNames.index.name='Prefix'\n",
    "\n",
    "fig = plt.figure(figsize=(12,8))\n",
    "\n",
    "ax_np = sns.barplot(x=byNames.index,y=byNames['Survived(%)'])\n",
    "ax_np.set_ylabel('Survival Probability by Title')"
   ]
  },
  {
   "cell_type": "code",
   "execution_count": 20,
   "metadata": {
    "ExecuteTime": {
     "end_time": "2018-12-13T13:50:06.561860Z",
     "start_time": "2018-12-13T13:50:06.313968Z"
    }
   },
   "outputs": [
    {
     "data": {
      "text/html": [
       "<div>\n",
       "<style scoped>\n",
       "    .dataframe tbody tr th:only-of-type {\n",
       "        vertical-align: middle;\n",
       "    }\n",
       "\n",
       "    .dataframe tbody tr th {\n",
       "        vertical-align: top;\n",
       "    }\n",
       "\n",
       "    .dataframe thead th {\n",
       "        text-align: right;\n",
       "    }\n",
       "</style>\n",
       "<table border=\"1\" class=\"dataframe\">\n",
       "  <thead>\n",
       "    <tr style=\"text-align: right;\">\n",
       "      <th></th>\n",
       "      <th>Survived</th>\n",
       "    </tr>\n",
       "    <tr>\n",
       "      <th>Sex</th>\n",
       "      <th></th>\n",
       "    </tr>\n",
       "  </thead>\n",
       "  <tbody>\n",
       "    <tr>\n",
       "      <th>female</th>\n",
       "      <td>0.742038</td>\n",
       "    </tr>\n",
       "    <tr>\n",
       "      <th>male</th>\n",
       "      <td>0.188908</td>\n",
       "    </tr>\n",
       "  </tbody>\n",
       "</table>\n",
       "</div>"
      ],
      "text/plain": [
       "        Survived\n",
       "Sex             \n",
       "female  0.742038\n",
       "male    0.188908"
      ]
     },
     "execution_count": 20,
     "metadata": {},
     "output_type": "execute_result"
    },
    {
     "data": {
      "image/png": "[encoded data removed]",
      "text/plain": [
       "<Figure size 432x288 with 1 Axes>"
      ]
     },
     "metadata": {},
     "output_type": "display_data"
    }
   ],
   "source": [
    "# by Gender\n",
    "\n",
    "ax_gn = sns.barplot(x='Sex',y='Survived',data=traindata)\n",
    "ax_gn.set_ylabel('Survival Probability')\n",
    "\n",
    "traindata[['Sex','Survived']].groupby(['Sex']).mean()"
   ]
  },
  {
   "cell_type": "code",
   "execution_count": 21,
   "metadata": {
    "ExecuteTime": {
     "end_time": "2018-12-13T13:50:07.056247Z",
     "start_time": "2018-12-13T13:50:06.875391Z"
    }
   },
   "outputs": [
    {
     "name": "stderr",
     "output_type": "stream",
     "text": [
      "/home/alk/.anaconda/envs/dsci/lib/python3.6/site-packages/statsmodels/nonparametric/kde.py:448: RuntimeWarning: invalid value encountered in greater\n",
      "  X = X[np.logical_and(X > clip[0], X < clip[1])] # won't work for two columns.\n",
      "/home/alk/.anaconda/envs/dsci/lib/python3.6/site-packages/statsmodels/nonparametric/kde.py:448: RuntimeWarning: invalid value encountered in less\n",
      "  X = X[np.logical_and(X > clip[0], X < clip[1])] # won't work for two columns.\n"
     ]
    },
    {
     "data": {
      "text/plain": [
       "Text(0, 0.5, 'Probability')"
      ]
     },
     "execution_count": 21,
     "metadata": {},
     "output_type": "execute_result"
    },
    {
     "data": {
      "image/png": "[encoded data removed]",
      "text/plain": [
       "<Figure size 720x576 with 1 Axes>"
      ]
     },
     "metadata": {},
     "output_type": "display_data"
    }
   ],
   "source": [
    "# by Age - Continuous KDE\n",
    "\n",
    "fig = plt.figure(figsize=(10,8))\n",
    "\n",
    "ax = sns.kdeplot(traindata.loc[(traindata['Survived']==1),('Age')],\n",
    "                 color='b',\n",
    "                 shade=True,\n",
    "                 label='Survived')\n",
    "\n",
    "ax = sns.kdeplot(traindata.loc[(traindata['Survived']==0),('Age')],\n",
    "                 color='r',\n",
    "                 shade=True,\n",
    "                 label='Not Survived')\n",
    "\n",
    "plt.title('Survivors v/s Non Survivors by Age')\n",
    "plt.xlabel('Age')\n",
    "plt.ylabel('Probability')"
   ]
  },
  {
   "cell_type": "code",
   "execution_count": 22,
   "metadata": {
    "ExecuteTime": {
     "end_time": "2018-12-13T13:50:07.960888Z",
     "start_time": "2018-12-13T13:50:07.369938Z"
    }
   },
   "outputs": [
    {
     "name": "stderr",
     "output_type": "stream",
     "text": [
      "/home/alk/.anaconda/envs/dsci/lib/python3.6/site-packages/ipykernel_launcher.py:15: SettingWithCopyWarning: \n",
      "A value is trying to be set on a copy of a slice from a DataFrame.\n",
      "Try using .loc[row_indexer,col_indexer] = value instead\n",
      "\n",
      "See the caveats in the documentation: http://pandas.pydata.org/pandas-docs/stable/indexing.html#indexing-view-versus-copy\n",
      "  from ipykernel import kernelapp as app\n"
     ]
    },
    {
     "data": {
      "text/html": [
       "<div>\n",
       "<style scoped>\n",
       "    .dataframe tbody tr th:only-of-type {\n",
       "        vertical-align: middle;\n",
       "    }\n",
       "\n",
       "    .dataframe tbody tr th {\n",
       "        vertical-align: top;\n",
       "    }\n",
       "\n",
       "    .dataframe thead th {\n",
       "        text-align: right;\n",
       "    }\n",
       "</style>\n",
       "<table border=\"1\" class=\"dataframe\">\n",
       "  <thead>\n",
       "    <tr style=\"text-align: right;\">\n",
       "      <th></th>\n",
       "      <th>Survived</th>\n",
       "    </tr>\n",
       "    <tr>\n",
       "      <th>Age_Binned</th>\n",
       "      <th></th>\n",
       "    </tr>\n",
       "  </thead>\n",
       "  <tbody>\n",
       "    <tr>\n",
       "      <th>0-10</th>\n",
       "      <td>0.593750</td>\n",
       "    </tr>\n",
       "    <tr>\n",
       "      <th>10-20</th>\n",
       "      <td>0.382609</td>\n",
       "    </tr>\n",
       "    <tr>\n",
       "      <th>20-30</th>\n",
       "      <td>0.365217</td>\n",
       "    </tr>\n",
       "    <tr>\n",
       "      <th>30-40</th>\n",
       "      <td>0.445161</td>\n",
       "    </tr>\n",
       "    <tr>\n",
       "      <th>40-50</th>\n",
       "      <td>0.383721</td>\n",
       "    </tr>\n",
       "    <tr>\n",
       "      <th>50-60</th>\n",
       "      <td>0.404762</td>\n",
       "    </tr>\n",
       "    <tr>\n",
       "      <th>60-70</th>\n",
       "      <td>0.235294</td>\n",
       "    </tr>\n",
       "    <tr>\n",
       "      <th>70-80</th>\n",
       "      <td>0.200000</td>\n",
       "    </tr>\n",
       "  </tbody>\n",
       "</table>\n",
       "</div>"
      ],
      "text/plain": [
       "            Survived\n",
       "Age_Binned          \n",
       "0-10        0.593750\n",
       "10-20       0.382609\n",
       "20-30       0.365217\n",
       "30-40       0.445161\n",
       "40-50       0.383721\n",
       "50-60       0.404762\n",
       "60-70       0.235294\n",
       "70-80       0.200000"
      ]
     },
     "execution_count": 22,
     "metadata": {},
     "output_type": "execute_result"
    },
    {
     "data": {
      "image/png": "[encoded data removed]",
      "text/plain": [
       "<Figure size 720x576 with 1 Axes>"
      ]
     },
     "metadata": {},
     "output_type": "display_data"
    },
    {
     "data": {
      "image/png": "[encoded data removed]",
      "text/plain": [
       "<Figure size 360x360 with 1 Axes>"
      ]
     },
     "metadata": {},
     "output_type": "display_data"
    }
   ],
   "source": [
    "# by Age - Discrete Age Binning\n",
    "\n",
    "fig = plt.figure(figsize=(10,8))\n",
    "\n",
    "ageDF = traindata[['Age','Survived']]\n",
    "\n",
    "maxage, minage = int(ageDF.Age.max()), int(ageDF.Age.min())\n",
    "agebins = np.arange(minage, maxage+10, 10)\n",
    "agelabels = [str(agebins[i])+'-'+str(agebins[i+1])\n",
    "             for i in range(len(agebins)-1)]\n",
    "\n",
    "\n",
    "ageDF['Age_Binned'] = pd.cut(ageDF.loc[:,('Age')],\n",
    "                             bins=agebins,\n",
    "                             labels=agelabels)\n",
    "\n",
    "\n",
    "Binned_Probs = ageDF[['Age_Binned','Survived']].groupby(['Age_Binned']).mean()\n",
    "\n",
    "ax_ag = sns.barplot(x=Binned_Probs.index,\n",
    "                    y='Survived', \n",
    "                    data=Binned_Probs)\n",
    "\n",
    "ax_lmag = sns.lmplot('Age','Survived',data=ageDF)\n",
    "\n",
    "ax_ag.set_ylabel('Survival Probability by Age Group')\n",
    "\n",
    "Binned_Probs"
   ]
  },
  {
   "cell_type": "code",
   "execution_count": 23,
   "metadata": {
    "ExecuteTime": {
     "end_time": "2018-12-13T13:50:08.443711Z",
     "start_time": "2018-12-13T13:50:08.298658Z"
    }
   },
   "outputs": [
    {
     "data": {
      "text/plain": [
       "Text(0.5, 0, 'Number of siblings on board')"
      ]
     },
     "execution_count": 23,
     "metadata": {},
     "output_type": "execute_result"
    },
    {
     "data": {
      "image/png": "[encoded data removed]",
      "text/plain": [
       "<Figure size 720x576 with 1 Axes>"
      ]
     },
     "metadata": {},
     "output_type": "display_data"
    }
   ],
   "source": [
    "# by siblings on board\n",
    "\n",
    "fig = plt.figure(figsize=(10,8))\n",
    "\n",
    "sib_data = traindata[['SibSp', 'Survived']].groupby(['SibSp']).mean()\n",
    "\n",
    "ax_sb = sns.barplot(x=sib_data.index, y='Survived', data=sib_data)\n",
    "ax_sb.set_ylabel('Survival Probabibility')\n",
    "ax_sb.set_xlabel('Number of siblings on board')"
   ]
  },
  {
   "cell_type": "code",
   "execution_count": 24,
   "metadata": {
    "ExecuteTime": {
     "end_time": "2018-12-13T13:50:08.964909Z",
     "start_time": "2018-12-13T13:50:08.807204Z"
    }
   },
   "outputs": [
    {
     "data": {
      "text/html": [
       "<div>\n",
       "<style scoped>\n",
       "    .dataframe tbody tr th:only-of-type {\n",
       "        vertical-align: middle;\n",
       "    }\n",
       "\n",
       "    .dataframe tbody tr th {\n",
       "        vertical-align: top;\n",
       "    }\n",
       "\n",
       "    .dataframe thead th {\n",
       "        text-align: right;\n",
       "    }\n",
       "</style>\n",
       "<table border=\"1\" class=\"dataframe\">\n",
       "  <thead>\n",
       "    <tr style=\"text-align: right;\">\n",
       "      <th></th>\n",
       "      <th>Survived</th>\n",
       "    </tr>\n",
       "    <tr>\n",
       "      <th>Parch</th>\n",
       "      <th></th>\n",
       "    </tr>\n",
       "  </thead>\n",
       "  <tbody>\n",
       "    <tr>\n",
       "      <th>0</th>\n",
       "      <td>0.343658</td>\n",
       "    </tr>\n",
       "    <tr>\n",
       "      <th>1</th>\n",
       "      <td>0.550847</td>\n",
       "    </tr>\n",
       "    <tr>\n",
       "      <th>2</th>\n",
       "      <td>0.500000</td>\n",
       "    </tr>\n",
       "    <tr>\n",
       "      <th>3</th>\n",
       "      <td>0.600000</td>\n",
       "    </tr>\n",
       "    <tr>\n",
       "      <th>4</th>\n",
       "      <td>0.000000</td>\n",
       "    </tr>\n",
       "    <tr>\n",
       "      <th>5</th>\n",
       "      <td>0.200000</td>\n",
       "    </tr>\n",
       "    <tr>\n",
       "      <th>6</th>\n",
       "      <td>0.000000</td>\n",
       "    </tr>\n",
       "  </tbody>\n",
       "</table>\n",
       "</div>"
      ],
      "text/plain": [
       "       Survived\n",
       "Parch          \n",
       "0      0.343658\n",
       "1      0.550847\n",
       "2      0.500000\n",
       "3      0.600000\n",
       "4      0.000000\n",
       "5      0.200000\n",
       "6      0.000000"
      ]
     },
     "execution_count": 24,
     "metadata": {},
     "output_type": "execute_result"
    },
    {
     "data": {
      "image/png": "[encoded data removed]",
      "text/plain": [
       "<Figure size 720x576 with 1 Axes>"
      ]
     },
     "metadata": {},
     "output_type": "display_data"
    }
   ],
   "source": [
    "# by parents on board\n",
    "\n",
    "fig = plt.figure(figsize=(10,8))\n",
    "\n",
    "Parch_data = traindata[['Parch', 'Survived']].groupby(['Parch']).mean()\n",
    "\n",
    "ax_sb = sns.barplot(x=Parch_data.index, y='Survived', data=Parch_data)\n",
    "ax_sb.set_ylabel('Survival Probabibility')\n",
    "\n",
    "Parch_data"
   ]
  },
  {
   "cell_type": "code",
   "execution_count": 25,
   "metadata": {
    "ExecuteTime": {
     "end_time": "2018-12-13T13:50:09.670939Z",
     "start_time": "2018-12-13T13:50:09.328104Z"
    }
   },
   "outputs": [
    {
     "data": {
      "text/plain": [
       "Text(0, 0.5, 'Probability')"
      ]
     },
     "execution_count": 25,
     "metadata": {},
     "output_type": "execute_result"
    },
    {
     "data": {
      "image/png": "[encoded data removed]",
      "text/plain": [
       "<Figure size 720x576 with 1 Axes>"
      ]
     },
     "metadata": {},
     "output_type": "display_data"
    }
   ],
   "source": [
    "# by fares\n",
    "\n",
    "fig = plt.figure(figsize=(10,8))\n",
    "\n",
    "ax = sns.distplot(traindata.loc[(traindata['Survived']==1),('Fare')],\n",
    "                 color='b',\n",
    "                 label='Survived')\n",
    "\n",
    "ax = sns.distplot(traindata.loc[(traindata['Survived']==0),('Fare')],\n",
    "                 color='r',\n",
    "                 label='Not Survived')\n",
    "\n",
    "plt.title('Survivors v/s Non Survivors by Fare')\n",
    "plt.legend()\n",
    "plt.xlabel('Fare')\n",
    "plt.ylabel('Probability')"
   ]
  },
  {
   "cell_type": "code",
   "execution_count": 26,
   "metadata": {
    "ExecuteTime": {
     "end_time": "2018-12-13T13:50:10.025191Z",
     "start_time": "2018-12-13T13:50:10.021952Z"
    }
   },
   "outputs": [
    {
     "data": {
      "text/plain": [
       "array([nan, 'C85', 'C123', 'E46', 'G6', 'C103', 'D56', 'A6',\n",
       "       'C23 C25 C27', 'B78', 'D33', 'B30', 'C52', 'B28', 'C83', 'F33',\n",
       "       'F G73', 'E31', 'A5', 'D10 D12', 'D26', 'C110', 'B58 B60', 'E101',\n",
       "       'F E69', 'D47', 'B86', 'F2', 'C2', 'E33', 'B19', 'A7', 'C49', 'F4',\n",
       "       'A32', 'B4', 'B80', 'A31', 'D36', 'D15', 'C93', 'C78', 'D35',\n",
       "       'C87', 'B77', 'E67', 'B94', 'C125', 'C99', 'C118', 'D7', 'A19',\n",
       "       'B49', 'D', 'C22 C26', 'C106', 'C65', 'E36', 'C54',\n",
       "       'B57 B59 B63 B66', 'C7', 'E34', 'C32', 'B18', 'C124', 'C91', 'E40',\n",
       "       'T', 'C128', 'D37', 'B35', 'E50', 'C82', 'B96 B98', 'E10', 'E44',\n",
       "       'A34', 'C104', 'C111', 'C92', 'E38', 'D21', 'E12', 'E63', 'A14',\n",
       "       'B37', 'C30', 'D20', 'B79', 'E25', 'D46', 'B73', 'C95', 'B38',\n",
       "       'B39', 'B22', 'C86', 'C70', 'A16', 'C101', 'C68', 'A10', 'E68',\n",
       "       'B41', 'A20', 'D19', 'D50', 'D9', 'A23', 'B50', 'A26', 'D48',\n",
       "       'E58', 'C126', 'B71', 'B51 B53 B55', 'D49', 'B5', 'B20', 'F G63',\n",
       "       'C62 C64', 'E24', 'C90', 'C45', 'E8', 'B101', 'D45', 'C46', 'D30',\n",
       "       'E121', 'D11', 'E77', 'F38', 'B3', 'D6', 'B82 B84', 'D17', 'A36',\n",
       "       'B102', 'B69', 'E49', 'C47', 'D28', 'E17', 'A24', 'C50', 'B42',\n",
       "       'C148'], dtype=object)"
      ]
     },
     "execution_count": 26,
     "metadata": {},
     "output_type": "execute_result"
    }
   ],
   "source": [
    "# Cabin\n",
    "traindata['Cabin'].unique()"
   ]
  },
  {
   "cell_type": "code",
   "execution_count": 27,
   "metadata": {
    "ExecuteTime": {
     "end_time": "2018-12-13T13:50:10.538289Z",
     "start_time": "2018-12-13T13:50:10.377485Z"
    }
   },
   "outputs": [
    {
     "data": {
      "text/html": [
       "<div>\n",
       "<style scoped>\n",
       "    .dataframe tbody tr th:only-of-type {\n",
       "        vertical-align: middle;\n",
       "    }\n",
       "\n",
       "    .dataframe tbody tr th {\n",
       "        vertical-align: top;\n",
       "    }\n",
       "\n",
       "    .dataframe thead th {\n",
       "        text-align: right;\n",
       "    }\n",
       "</style>\n",
       "<table border=\"1\" class=\"dataframe\">\n",
       "  <thead>\n",
       "    <tr style=\"text-align: right;\">\n",
       "      <th></th>\n",
       "      <th>Survived</th>\n",
       "    </tr>\n",
       "    <tr>\n",
       "      <th>Embarked</th>\n",
       "      <th></th>\n",
       "    </tr>\n",
       "  </thead>\n",
       "  <tbody>\n",
       "    <tr>\n",
       "      <th>C</th>\n",
       "      <td>168</td>\n",
       "    </tr>\n",
       "    <tr>\n",
       "      <th>Q</th>\n",
       "      <td>77</td>\n",
       "    </tr>\n",
       "    <tr>\n",
       "      <th>S</th>\n",
       "      <td>644</td>\n",
       "    </tr>\n",
       "  </tbody>\n",
       "</table>\n",
       "</div>"
      ],
      "text/plain": [
       "          Survived\n",
       "Embarked          \n",
       "C              168\n",
       "Q               77\n",
       "S              644"
      ]
     },
     "execution_count": 27,
     "metadata": {},
     "output_type": "execute_result"
    },
    {
     "data": {
      "image/png": "[encoded data removed]",
      "text/plain": [
       "<Figure size 432x288 with 1 Axes>"
      ]
     },
     "metadata": {},
     "output_type": "display_data"
    }
   ],
   "source": [
    "# Embarked\n",
    "ax = sns.countplot(x='Embarked',hue='Survived',data=traindata)\n",
    "ax.set_ylabel('Count')\n",
    "\n",
    "traindata[['Embarked','Survived']].groupby(['Embarked']).count()"
   ]
  },
  {
   "cell_type": "code",
   "execution_count": 28,
   "metadata": {
    "ExecuteTime": {
     "end_time": "2018-12-13T13:50:11.438102Z",
     "start_time": "2018-12-13T13:50:10.890406Z"
    }
   },
   "outputs": [
    {
     "data": {
      "text/plain": [
       "<seaborn.axisgrid.FacetGrid at 0x7f7f33ef3cc0>"
      ]
     },
     "execution_count": 28,
     "metadata": {},
     "output_type": "execute_result"
    },
    {
     "data": {
      "image/png": "[encoded data removed]",
      "text/plain": [
       "<Figure size 406.6x360 with 1 Axes>"
      ]
     },
     "metadata": {},
     "output_type": "display_data"
    }
   ],
   "source": [
    "# Multiplots\n",
    "# Age and Pclass\n",
    "\n",
    "sns.lmplot('Age', 'Survived', data=traindata, hue='Pclass')"
   ]
  },
  {
   "cell_type": "code",
   "execution_count": 29,
   "metadata": {
    "ExecuteTime": {
     "end_time": "2018-12-13T13:50:12.172727Z",
     "start_time": "2018-12-13T13:50:11.810424Z"
    }
   },
   "outputs": [
    {
     "data": {
      "text/plain": [
       "<seaborn.axisgrid.FacetGrid at 0x7f7f40edf438>"
      ]
     },
     "execution_count": 29,
     "metadata": {},
     "output_type": "execute_result"
    },
    {
     "data": {
      "text/plain": [
       "<Figure size 1152x384 with 0 Axes>"
      ]
     },
     "metadata": {},
     "output_type": "display_data"
    },
    {
     "data": {
      "image/png": "[encoded data removed]",
      "text/plain": [
       "<Figure size 648x360 with 3 Axes>"
      ]
     },
     "metadata": {},
     "output_type": "display_data"
    }
   ],
   "source": [
    "# Age, Sex and Pclass\n",
    "fig = plt.figure(figsize=(12,4), dpi=96)\n",
    "sns.catplot(x='Sex', y='Survived', col='Pclass', \n",
    "            data=traindata, kind='bar', aspect=0.6)"
   ]
  },
  {
   "cell_type": "code",
   "execution_count": 30,
   "metadata": {
    "ExecuteTime": {
     "end_time": "2018-12-13T13:50:13.334128Z",
     "start_time": "2018-12-13T13:50:12.538727Z"
    }
   },
   "outputs": [
    {
     "data": {
      "text/plain": [
       "<seaborn.axisgrid.FacetGrid at 0x7f7f33d890b8>"
      ]
     },
     "execution_count": 30,
     "metadata": {},
     "output_type": "execute_result"
    },
    {
     "data": {
      "text/plain": [
       "<Figure size 2688x384 with 0 Axes>"
      ]
     },
     "metadata": {},
     "output_type": "display_data"
    },
    {
     "data": {
      "image/png": "[encoded data removed]",
      "text/plain": [
       "<Figure size 1512x360 with 7 Axes>"
      ]
     },
     "metadata": {},
     "output_type": "display_data"
    }
   ],
   "source": [
    "# Age, Sex, and Siblings on board\n",
    "fig = plt.figure(figsize=(28,4), dpi=96)\n",
    "sns.catplot(x='Sex', y='Survived', col='SibSp', \n",
    "            data=traindata, kind='bar', aspect=0.6)"
   ]
  },
  {
   "cell_type": "code",
   "execution_count": 31,
   "metadata": {
    "ExecuteTime": {
     "end_time": "2018-12-13T13:50:14.441640Z",
     "start_time": "2018-12-13T13:50:13.684017Z"
    }
   },
   "outputs": [
    {
     "data": {
      "text/plain": [
       "<seaborn.axisgrid.FacetGrid at 0x7f7f33b9b470>"
      ]
     },
     "execution_count": 31,
     "metadata": {},
     "output_type": "execute_result"
    },
    {
     "data": {
      "text/plain": [
       "<Figure size 2688x384 with 0 Axes>"
      ]
     },
     "metadata": {},
     "output_type": "display_data"
    },
    {
     "data": {
      "image/png": "[encoded data removed]",
      "text/plain": [
       "<Figure size 1512x360 with 7 Axes>"
      ]
     },
     "metadata": {},
     "output_type": "display_data"
    }
   ],
   "source": [
    "#Age, Sex and Parch\n",
    "fig = plt.figure(figsize=(28,4), dpi=96)\n",
    "sns.catplot(x='Sex', y='Survived', col='Parch', \n",
    "            data=traindata, kind='bar', aspect=0.6)"
   ]
  },
  {
   "cell_type": "markdown",
   "metadata": {},
   "source": [
    "## Feature Engineering"
   ]
  },
  {
   "cell_type": "code",
   "execution_count": 32,
   "metadata": {
    "ExecuteTime": {
     "end_time": "2018-12-13T13:50:14.800831Z",
     "start_time": "2018-12-13T13:50:14.788021Z"
    }
   },
   "outputs": [
    {
     "name": "stdout",
     "output_type": "stream",
     "text": [
      "(891, 13) (418, 12) (1309, 13)\n",
      "{'Survived'}\n"
     ]
    },
    {
     "data": {
      "text/plain": [
       "PassengerId       0\n",
       "Survived        418\n",
       "Pclass            0\n",
       "Name              0\n",
       "Sex               0\n",
       "Age             263\n",
       "SibSp             0\n",
       "Parch             0\n",
       "Ticket            0\n",
       "Fare              1\n",
       "Cabin          1014\n",
       "Embarked          2\n",
       "origin            0\n",
       "dtype: int64"
      ]
     },
     "execution_count": 32,
     "metadata": {},
     "output_type": "execute_result"
    }
   ],
   "source": [
    "# combining data\n",
    "\n",
    "traindata['origin'] = 'train'\n",
    "testdata['origin'] = 'test'\n",
    "alldata = pd.concat([traindata, testdata], ignore_index=True, sort=False)\n",
    "print(traindata.shape, testdata.shape, alldata.shape)\n",
    "print(set(traindata.columns) - set(testdata.columns))\n",
    "alldata.isnull().sum()"
   ]
  },
  {
   "cell_type": "code",
   "execution_count": 33,
   "metadata": {
    "ExecuteTime": {
     "end_time": "2018-12-13T13:50:15.211357Z",
     "start_time": "2018-12-13T13:50:15.208322Z"
    }
   },
   "outputs": [],
   "source": [
    "# passengerID -> droppping\n",
    "\n",
    "alldata.drop(labels = ['PassengerId'], axis=1, inplace=True)"
   ]
  },
  {
   "cell_type": "code",
   "execution_count": 34,
   "metadata": {
    "ExecuteTime": {
     "end_time": "2018-12-13T13:50:15.641757Z",
     "start_time": "2018-12-13T13:50:15.635195Z"
    }
   },
   "outputs": [],
   "source": [
    "# Pclass - dummies\n",
    "alldata['Pclass'] = alldata.Pclass.astype('category')\n",
    "alldata = pd.get_dummies(alldata, columns=['Pclass'], prefix='Pclass')"
   ]
  },
  {
   "cell_type": "code",
   "execution_count": 35,
   "metadata": {
    "ExecuteTime": {
     "end_time": "2018-12-13T13:50:16.348669Z",
     "start_time": "2018-12-13T13:50:16.108098Z"
    }
   },
   "outputs": [
    {
     "name": "stdout",
     "output_type": "stream",
     "text": [
      "['Mr.' 'Mrs.' 'Miss.' 'Master.' 'Don.' 'Rev.' 'Dr.' 'Mme.' 'Ms.' 'Major.'\n",
      " 'Lady.' 'Sir.' 'Mlle.' 'Col.' 'Capt.' 'Countess.' 'Jonkheer.' nan]\n"
     ]
    }
   ],
   "source": [
    "# Name - Extract Prefixes\n",
    "alldata['Prefix'] = alldata.astype(str).apply(lambda s: pd.Series(apply_prefix(s[\"Name\"])),axis=1)\n",
    "print(alldata.Prefix.unique())\n",
    "alldata = pd.get_dummies(alldata, columns = ['Prefix'], prefix='Has_Title')"
   ]
  },
  {
   "cell_type": "code",
   "execution_count": 36,
   "metadata": {
    "ExecuteTime": {
     "end_time": "2018-12-13T13:50:16.783013Z",
     "start_time": "2018-12-13T13:50:16.780024Z"
    }
   },
   "outputs": [
    {
     "data": {
      "text/plain": [
       "Index(['Survived', 'Name', 'Sex', 'Age', 'SibSp', 'Parch', 'Ticket', 'Fare',\n",
       "       'Cabin', 'Embarked', 'origin', 'Pclass_1', 'Pclass_2', 'Pclass_3',\n",
       "       'Has_Title_Capt.', 'Has_Title_Col.', 'Has_Title_Countess.',\n",
       "       'Has_Title_Don.', 'Has_Title_Dr.', 'Has_Title_Jonkheer.',\n",
       "       'Has_Title_Lady.', 'Has_Title_Major.', 'Has_Title_Master.',\n",
       "       'Has_Title_Miss.', 'Has_Title_Mlle.', 'Has_Title_Mme.', 'Has_Title_Mr.',\n",
       "       'Has_Title_Mrs.', 'Has_Title_Ms.', 'Has_Title_Rev.', 'Has_Title_Sir.'],\n",
       "      dtype='object')"
      ]
     },
     "execution_count": 36,
     "metadata": {},
     "output_type": "execute_result"
    }
   ],
   "source": [
    "alldata.columns"
   ]
  },
  {
   "cell_type": "code",
   "execution_count": 37,
   "metadata": {
    "ExecuteTime": {
     "end_time": "2018-12-13T13:50:17.266608Z",
     "start_time": "2018-12-13T13:50:17.240517Z"
    }
   },
   "outputs": [
    {
     "data": {
      "text/html": [
       "<div>\n",
       "<style scoped>\n",
       "    .dataframe tbody tr th:only-of-type {\n",
       "        vertical-align: middle;\n",
       "    }\n",
       "\n",
       "    .dataframe tbody tr th {\n",
       "        vertical-align: top;\n",
       "    }\n",
       "\n",
       "    .dataframe thead th {\n",
       "        text-align: right;\n",
       "    }\n",
       "</style>\n",
       "<table border=\"1\" class=\"dataframe\">\n",
       "  <thead>\n",
       "    <tr style=\"text-align: right;\">\n",
       "      <th></th>\n",
       "      <th>Survived</th>\n",
       "      <th>Sex</th>\n",
       "      <th>Age</th>\n",
       "      <th>SibSp</th>\n",
       "      <th>Parch</th>\n",
       "      <th>Ticket</th>\n",
       "      <th>Fare</th>\n",
       "      <th>Cabin</th>\n",
       "      <th>Embarked</th>\n",
       "      <th>origin</th>\n",
       "      <th>...</th>\n",
       "      <th>Has_Title_Major.</th>\n",
       "      <th>Has_Title_Master.</th>\n",
       "      <th>Has_Title_Miss.</th>\n",
       "      <th>Has_Title_Mlle.</th>\n",
       "      <th>Has_Title_Mme.</th>\n",
       "      <th>Has_Title_Mr.</th>\n",
       "      <th>Has_Title_Mrs.</th>\n",
       "      <th>Has_Title_Ms.</th>\n",
       "      <th>Has_Title_Rev.</th>\n",
       "      <th>Has_Title_Sir.</th>\n",
       "    </tr>\n",
       "  </thead>\n",
       "  <tbody>\n",
       "    <tr>\n",
       "      <th>0</th>\n",
       "      <td>0.0</td>\n",
       "      <td>male</td>\n",
       "      <td>22.0</td>\n",
       "      <td>1</td>\n",
       "      <td>0</td>\n",
       "      <td>A/5 21171</td>\n",
       "      <td>7.2500</td>\n",
       "      <td>NaN</td>\n",
       "      <td>S</td>\n",
       "      <td>train</td>\n",
       "      <td>...</td>\n",
       "      <td>0</td>\n",
       "      <td>0</td>\n",
       "      <td>0</td>\n",
       "      <td>0</td>\n",
       "      <td>0</td>\n",
       "      <td>1</td>\n",
       "      <td>0</td>\n",
       "      <td>0</td>\n",
       "      <td>0</td>\n",
       "      <td>0</td>\n",
       "    </tr>\n",
       "    <tr>\n",
       "      <th>1</th>\n",
       "      <td>1.0</td>\n",
       "      <td>female</td>\n",
       "      <td>38.0</td>\n",
       "      <td>1</td>\n",
       "      <td>0</td>\n",
       "      <td>PC 17599</td>\n",
       "      <td>71.2833</td>\n",
       "      <td>C85</td>\n",
       "      <td>C</td>\n",
       "      <td>train</td>\n",
       "      <td>...</td>\n",
       "      <td>0</td>\n",
       "      <td>0</td>\n",
       "      <td>0</td>\n",
       "      <td>0</td>\n",
       "      <td>0</td>\n",
       "      <td>0</td>\n",
       "      <td>1</td>\n",
       "      <td>0</td>\n",
       "      <td>0</td>\n",
       "      <td>0</td>\n",
       "    </tr>\n",
       "    <tr>\n",
       "      <th>2</th>\n",
       "      <td>1.0</td>\n",
       "      <td>female</td>\n",
       "      <td>26.0</td>\n",
       "      <td>0</td>\n",
       "      <td>0</td>\n",
       "      <td>STON/O2. 3101282</td>\n",
       "      <td>7.9250</td>\n",
       "      <td>NaN</td>\n",
       "      <td>S</td>\n",
       "      <td>train</td>\n",
       "      <td>...</td>\n",
       "      <td>0</td>\n",
       "      <td>0</td>\n",
       "      <td>1</td>\n",
       "      <td>0</td>\n",
       "      <td>0</td>\n",
       "      <td>0</td>\n",
       "      <td>0</td>\n",
       "      <td>0</td>\n",
       "      <td>0</td>\n",
       "      <td>0</td>\n",
       "    </tr>\n",
       "    <tr>\n",
       "      <th>3</th>\n",
       "      <td>1.0</td>\n",
       "      <td>female</td>\n",
       "      <td>35.0</td>\n",
       "      <td>1</td>\n",
       "      <td>0</td>\n",
       "      <td>113803</td>\n",
       "      <td>53.1000</td>\n",
       "      <td>C123</td>\n",
       "      <td>S</td>\n",
       "      <td>train</td>\n",
       "      <td>...</td>\n",
       "      <td>0</td>\n",
       "      <td>0</td>\n",
       "      <td>0</td>\n",
       "      <td>0</td>\n",
       "      <td>0</td>\n",
       "      <td>0</td>\n",
       "      <td>1</td>\n",
       "      <td>0</td>\n",
       "      <td>0</td>\n",
       "      <td>0</td>\n",
       "    </tr>\n",
       "    <tr>\n",
       "      <th>4</th>\n",
       "      <td>0.0</td>\n",
       "      <td>male</td>\n",
       "      <td>35.0</td>\n",
       "      <td>0</td>\n",
       "      <td>0</td>\n",
       "      <td>373450</td>\n",
       "      <td>8.0500</td>\n",
       "      <td>NaN</td>\n",
       "      <td>S</td>\n",
       "      <td>train</td>\n",
       "      <td>...</td>\n",
       "      <td>0</td>\n",
       "      <td>0</td>\n",
       "      <td>0</td>\n",
       "      <td>0</td>\n",
       "      <td>0</td>\n",
       "      <td>1</td>\n",
       "      <td>0</td>\n",
       "      <td>0</td>\n",
       "      <td>0</td>\n",
       "      <td>0</td>\n",
       "    </tr>\n",
       "  </tbody>\n",
       "</table>\n",
       "<p>5 rows × 30 columns</p>\n",
       "</div>"
      ],
      "text/plain": [
       "   Survived     Sex   Age  SibSp  Parch            Ticket     Fare Cabin  \\\n",
       "0       0.0    male  22.0      1      0         A/5 21171   7.2500   NaN   \n",
       "1       1.0  female  38.0      1      0          PC 17599  71.2833   C85   \n",
       "2       1.0  female  26.0      0      0  STON/O2. 3101282   7.9250   NaN   \n",
       "3       1.0  female  35.0      1      0            113803  53.1000  C123   \n",
       "4       0.0    male  35.0      0      0            373450   8.0500   NaN   \n",
       "\n",
       "  Embarked origin       ...        Has_Title_Major.  Has_Title_Master.  \\\n",
       "0        S  train       ...                       0                  0   \n",
       "1        C  train       ...                       0                  0   \n",
       "2        S  train       ...                       0                  0   \n",
       "3        S  train       ...                       0                  0   \n",
       "4        S  train       ...                       0                  0   \n",
       "\n",
       "   Has_Title_Miss.  Has_Title_Mlle.  Has_Title_Mme.  Has_Title_Mr.  \\\n",
       "0                0                0               0              1   \n",
       "1                0                0               0              0   \n",
       "2                1                0               0              0   \n",
       "3                0                0               0              0   \n",
       "4                0                0               0              1   \n",
       "\n",
       "   Has_Title_Mrs.  Has_Title_Ms.  Has_Title_Rev.  Has_Title_Sir.  \n",
       "0               0              0               0               0  \n",
       "1               1              0               0               0  \n",
       "2               0              0               0               0  \n",
       "3               1              0               0               0  \n",
       "4               0              0               0               0  \n",
       "\n",
       "[5 rows x 30 columns]"
      ]
     },
     "execution_count": 37,
     "metadata": {},
     "output_type": "execute_result"
    }
   ],
   "source": [
    "#Name -> Drop Raw Names\n",
    "alldata.drop(labels = ['Name'], axis=1, inplace=True)\n",
    "alldata.head()"
   ]
  },
  {
   "cell_type": "code",
   "execution_count": 38,
   "metadata": {
    "ExecuteTime": {
     "end_time": "2018-12-13T13:50:17.740928Z",
     "start_time": "2018-12-13T13:50:17.720727Z"
    }
   },
   "outputs": [
    {
     "data": {
      "text/html": [
       "<div>\n",
       "<style scoped>\n",
       "    .dataframe tbody tr th:only-of-type {\n",
       "        vertical-align: middle;\n",
       "    }\n",
       "\n",
       "    .dataframe tbody tr th {\n",
       "        vertical-align: top;\n",
       "    }\n",
       "\n",
       "    .dataframe thead th {\n",
       "        text-align: right;\n",
       "    }\n",
       "</style>\n",
       "<table border=\"1\" class=\"dataframe\">\n",
       "  <thead>\n",
       "    <tr style=\"text-align: right;\">\n",
       "      <th></th>\n",
       "      <th>Survived</th>\n",
       "      <th>Age</th>\n",
       "      <th>SibSp</th>\n",
       "      <th>Parch</th>\n",
       "      <th>Ticket</th>\n",
       "      <th>Fare</th>\n",
       "      <th>Cabin</th>\n",
       "      <th>Embarked</th>\n",
       "      <th>origin</th>\n",
       "      <th>Pclass_1</th>\n",
       "      <th>...</th>\n",
       "      <th>Has_Title_Miss.</th>\n",
       "      <th>Has_Title_Mlle.</th>\n",
       "      <th>Has_Title_Mme.</th>\n",
       "      <th>Has_Title_Mr.</th>\n",
       "      <th>Has_Title_Mrs.</th>\n",
       "      <th>Has_Title_Ms.</th>\n",
       "      <th>Has_Title_Rev.</th>\n",
       "      <th>Has_Title_Sir.</th>\n",
       "      <th>Is_female</th>\n",
       "      <th>Is_male</th>\n",
       "    </tr>\n",
       "  </thead>\n",
       "  <tbody>\n",
       "    <tr>\n",
       "      <th>0</th>\n",
       "      <td>0.0</td>\n",
       "      <td>22.0</td>\n",
       "      <td>1</td>\n",
       "      <td>0</td>\n",
       "      <td>A/5 21171</td>\n",
       "      <td>7.2500</td>\n",
       "      <td>NaN</td>\n",
       "      <td>S</td>\n",
       "      <td>train</td>\n",
       "      <td>0</td>\n",
       "      <td>...</td>\n",
       "      <td>0</td>\n",
       "      <td>0</td>\n",
       "      <td>0</td>\n",
       "      <td>1</td>\n",
       "      <td>0</td>\n",
       "      <td>0</td>\n",
       "      <td>0</td>\n",
       "      <td>0</td>\n",
       "      <td>0</td>\n",
       "      <td>1</td>\n",
       "    </tr>\n",
       "    <tr>\n",
       "      <th>1</th>\n",
       "      <td>1.0</td>\n",
       "      <td>38.0</td>\n",
       "      <td>1</td>\n",
       "      <td>0</td>\n",
       "      <td>PC 17599</td>\n",
       "      <td>71.2833</td>\n",
       "      <td>C85</td>\n",
       "      <td>C</td>\n",
       "      <td>train</td>\n",
       "      <td>1</td>\n",
       "      <td>...</td>\n",
       "      <td>0</td>\n",
       "      <td>0</td>\n",
       "      <td>0</td>\n",
       "      <td>0</td>\n",
       "      <td>1</td>\n",
       "      <td>0</td>\n",
       "      <td>0</td>\n",
       "      <td>0</td>\n",
       "      <td>1</td>\n",
       "      <td>0</td>\n",
       "    </tr>\n",
       "    <tr>\n",
       "      <th>2</th>\n",
       "      <td>1.0</td>\n",
       "      <td>26.0</td>\n",
       "      <td>0</td>\n",
       "      <td>0</td>\n",
       "      <td>STON/O2. 3101282</td>\n",
       "      <td>7.9250</td>\n",
       "      <td>NaN</td>\n",
       "      <td>S</td>\n",
       "      <td>train</td>\n",
       "      <td>0</td>\n",
       "      <td>...</td>\n",
       "      <td>1</td>\n",
       "      <td>0</td>\n",
       "      <td>0</td>\n",
       "      <td>0</td>\n",
       "      <td>0</td>\n",
       "      <td>0</td>\n",
       "      <td>0</td>\n",
       "      <td>0</td>\n",
       "      <td>1</td>\n",
       "      <td>0</td>\n",
       "    </tr>\n",
       "    <tr>\n",
       "      <th>3</th>\n",
       "      <td>1.0</td>\n",
       "      <td>35.0</td>\n",
       "      <td>1</td>\n",
       "      <td>0</td>\n",
       "      <td>113803</td>\n",
       "      <td>53.1000</td>\n",
       "      <td>C123</td>\n",
       "      <td>S</td>\n",
       "      <td>train</td>\n",
       "      <td>1</td>\n",
       "      <td>...</td>\n",
       "      <td>0</td>\n",
       "      <td>0</td>\n",
       "      <td>0</td>\n",
       "      <td>0</td>\n",
       "      <td>1</td>\n",
       "      <td>0</td>\n",
       "      <td>0</td>\n",
       "      <td>0</td>\n",
       "      <td>1</td>\n",
       "      <td>0</td>\n",
       "    </tr>\n",
       "    <tr>\n",
       "      <th>4</th>\n",
       "      <td>0.0</td>\n",
       "      <td>35.0</td>\n",
       "      <td>0</td>\n",
       "      <td>0</td>\n",
       "      <td>373450</td>\n",
       "      <td>8.0500</td>\n",
       "      <td>NaN</td>\n",
       "      <td>S</td>\n",
       "      <td>train</td>\n",
       "      <td>0</td>\n",
       "      <td>...</td>\n",
       "      <td>0</td>\n",
       "      <td>0</td>\n",
       "      <td>0</td>\n",
       "      <td>1</td>\n",
       "      <td>0</td>\n",
       "      <td>0</td>\n",
       "      <td>0</td>\n",
       "      <td>0</td>\n",
       "      <td>0</td>\n",
       "      <td>1</td>\n",
       "    </tr>\n",
       "  </tbody>\n",
       "</table>\n",
       "<p>5 rows × 31 columns</p>\n",
       "</div>"
      ],
      "text/plain": [
       "   Survived   Age  SibSp  Parch            Ticket     Fare Cabin Embarked  \\\n",
       "0       0.0  22.0      1      0         A/5 21171   7.2500   NaN        S   \n",
       "1       1.0  38.0      1      0          PC 17599  71.2833   C85        C   \n",
       "2       1.0  26.0      0      0  STON/O2. 3101282   7.9250   NaN        S   \n",
       "3       1.0  35.0      1      0            113803  53.1000  C123        S   \n",
       "4       0.0  35.0      0      0            373450   8.0500   NaN        S   \n",
       "\n",
       "  origin  Pclass_1   ...     Has_Title_Miss.  Has_Title_Mlle.  Has_Title_Mme.  \\\n",
       "0  train         0   ...                   0                0               0   \n",
       "1  train         1   ...                   0                0               0   \n",
       "2  train         0   ...                   1                0               0   \n",
       "3  train         1   ...                   0                0               0   \n",
       "4  train         0   ...                   0                0               0   \n",
       "\n",
       "   Has_Title_Mr.  Has_Title_Mrs.  Has_Title_Ms.  Has_Title_Rev.  \\\n",
       "0              1               0              0               0   \n",
       "1              0               1              0               0   \n",
       "2              0               0              0               0   \n",
       "3              0               1              0               0   \n",
       "4              1               0              0               0   \n",
       "\n",
       "   Has_Title_Sir.  Is_female  Is_male  \n",
       "0               0          0        1  \n",
       "1               0          1        0  \n",
       "2               0          1        0  \n",
       "3               0          1        0  \n",
       "4               0          0        1  \n",
       "\n",
       "[5 rows x 31 columns]"
      ]
     },
     "execution_count": 38,
     "metadata": {},
     "output_type": "execute_result"
    }
   ],
   "source": [
    "#Sex -> Categorize\n",
    "\n",
    "alldata = pd.get_dummies(alldata, columns=[\"Sex\"], prefix=\"Is\")\n",
    "alldata.head()"
   ]
  },
  {
   "cell_type": "code",
   "execution_count": 39,
   "metadata": {
    "ExecuteTime": {
     "end_time": "2018-12-13T13:50:18.533325Z",
     "start_time": "2018-12-13T13:50:18.175897Z"
    }
   },
   "outputs": [],
   "source": [
    "from fancyimpute import KNN\n",
    "\n",
    "def KNNfill(df,usecols,predcol, knn_k=5):\n",
    "    \n",
    "    dfcpy = df.copy().fillna(value=float('NaN')).loc[:, usecols]\n",
    "    minval = dfcpy.loc[dfcpy[predcol].notnull(),(predcol)].min()\n",
    "    meanval = dfcpy.loc[dfcpy[predcol].notnull(),(predcol)].mean()\n",
    "    maxval = dfcpy.loc[dfcpy[predcol].notnull(),(predcol)].max()\n",
    "    \n",
    "    predictor = KNN(k=knn_k, min_value=minval, max_value=maxval)\n",
    "    print(\"Starting Imputation, Printing NaNs for Passed DataFrame::\\n{}\\n\".format(dfcpy.isnull().sum()))\n",
    "    print(\"{} values missing for {}\".format(dfcpy[predcol].isnull().sum(),predcol))\n",
    "    imputed_df = pd.DataFrame(data=predictor.fit_transform(dfcpy),\n",
    "                             columns=usecols)\n",
    "    imputed_df['orig_'+predcol] = dfcpy.loc[:, (predcol)]\n",
    "    return imputed_df"
   ]
  },
  {
   "cell_type": "code",
   "execution_count": 40,
   "metadata": {
    "ExecuteTime": {
     "end_time": "2018-12-13T13:50:19.292188Z",
     "start_time": "2018-12-13T13:50:18.971705Z"
    }
   },
   "outputs": [
    {
     "name": "stdout",
     "output_type": "stream",
     "text": [
      "Starting Imputation, Printing NaNs for Passed DataFrame::\n",
      "Is_male                   0\n",
      "Is_female                 0\n",
      "Pclass                 1309\n",
      "Parch                     0\n",
      "SibSp                     0\n",
      "Age                     263\n",
      "Has_Title_Capt.           0\n",
      "Has_Title_Col.            0\n",
      "Has_Title_Countess.       0\n",
      "Has_Title_Don.            0\n",
      "Has_Title_Dr.             0\n",
      "Has_Title_Jonkheer.       0\n",
      "Has_Title_Lady.           0\n",
      "Has_Title_Major.          0\n",
      "Has_Title_Master.         0\n",
      "Has_Title_Miss.           0\n",
      "Has_Title_Mlle.           0\n",
      "Has_Title_Mme.            0\n",
      "Has_Title_Mr.             0\n",
      "Has_Title_Mrs.            0\n",
      "Has_Title_Ms.             0\n",
      "Has_Title_Rev.            0\n",
      "Has_Title_Sir.            0\n",
      "dtype: int64\n",
      "\n",
      "263 values missing for Age\n"
     ]
    },
    {
     "name": "stderr",
     "output_type": "stream",
     "text": [
      "/home/alk/.anaconda/envs/dsci/lib/python3.6/site-packages/pandas/core/indexing.py:1472: FutureWarning: \n",
      "Passing list-likes to .loc or [] with any missing label will raise\n",
      "KeyError in the future, you can use .reindex() as an alternative.\n",
      "\n",
      "See the documentation here:\n",
      "https://pandas.pydata.org/pandas-docs/stable/indexing.html#deprecate-loc-reindex-listlike\n",
      "  return self._getitem_tuple(key)\n"
     ]
    },
    {
     "name": "stdout",
     "output_type": "stream",
     "text": [
      "Imputing row 1/1309 with 1 missing, elapsed time: 0.272\n",
      "Imputing row 101/1309 with 1 missing, elapsed time: 0.274\n",
      "Imputing row 201/1309 with 1 missing, elapsed time: 0.276\n",
      "Imputing row 301/1309 with 2 missing, elapsed time: 0.278\n",
      "Imputing row 401/1309 with 1 missing, elapsed time: 0.280\n",
      "Imputing row 501/1309 with 1 missing, elapsed time: 0.282\n",
      "Imputing row 601/1309 with 1 missing, elapsed time: 0.284\n",
      "Imputing row 701/1309 with 1 missing, elapsed time: 0.286\n",
      "Imputing row 801/1309 with 1 missing, elapsed time: 0.287\n",
      "Imputing row 901/1309 with 1 missing, elapsed time: 0.289\n",
      "Imputing row 1001/1309 with 1 missing, elapsed time: 0.291\n",
      "Imputing row 1101/1309 with 1 missing, elapsed time: 0.293\n",
      "Imputing row 1201/1309 with 1 missing, elapsed time: 0.295\n",
      "Imputing row 1301/1309 with 1 missing, elapsed time: 0.297\n",
      "[KNN] Warning: 1309/30107 still missing after imputation, replacing with 0\n",
      "OK!\n"
     ]
    },
    {
     "data": {
      "text/html": [
       "<div>\n",
       "<style scoped>\n",
       "    .dataframe tbody tr th:only-of-type {\n",
       "        vertical-align: middle;\n",
       "    }\n",
       "\n",
       "    .dataframe tbody tr th {\n",
       "        vertical-align: top;\n",
       "    }\n",
       "\n",
       "    .dataframe thead th {\n",
       "        text-align: right;\n",
       "    }\n",
       "</style>\n",
       "<table border=\"1\" class=\"dataframe\">\n",
       "  <thead>\n",
       "    <tr style=\"text-align: right;\">\n",
       "      <th></th>\n",
       "      <th>orig_Age</th>\n",
       "      <th>Age</th>\n",
       "    </tr>\n",
       "  </thead>\n",
       "  <tbody>\n",
       "    <tr>\n",
       "      <th>5</th>\n",
       "      <td>NaN</td>\n",
       "      <td>25.6</td>\n",
       "    </tr>\n",
       "    <tr>\n",
       "      <th>17</th>\n",
       "      <td>NaN</td>\n",
       "      <td>25.6</td>\n",
       "    </tr>\n",
       "    <tr>\n",
       "      <th>19</th>\n",
       "      <td>NaN</td>\n",
       "      <td>37.2</td>\n",
       "    </tr>\n",
       "    <tr>\n",
       "      <th>26</th>\n",
       "      <td>NaN</td>\n",
       "      <td>25.6</td>\n",
       "    </tr>\n",
       "    <tr>\n",
       "      <th>28</th>\n",
       "      <td>NaN</td>\n",
       "      <td>30.6</td>\n",
       "    </tr>\n",
       "  </tbody>\n",
       "</table>\n",
       "</div>"
      ],
      "text/plain": [
       "    orig_Age   Age\n",
       "5        NaN  25.6\n",
       "17       NaN  25.6\n",
       "19       NaN  37.2\n",
       "26       NaN  25.6\n",
       "28       NaN  30.6"
      ]
     },
     "execution_count": 40,
     "metadata": {},
     "output_type": "execute_result"
    }
   ],
   "source": [
    "usecols = ['Is_male','Is_female','Pclass', 'Parch', 'SibSp', 'Age',\n",
    "           'Has_Title_Capt.','Has_Title_Col.', 'Has_Title_Countess.',\n",
    "           'Has_Title_Don.','Has_Title_Dr.', 'Has_Title_Jonkheer.',\n",
    "           'Has_Title_Lady.','Has_Title_Major.', 'Has_Title_Master.',\n",
    "           'Has_Title_Miss.','Has_Title_Mlle.', 'Has_Title_Mme.',\n",
    "           'Has_Title_Mr.', 'Has_Title_Mrs.','Has_Title_Ms.',\n",
    "           'Has_Title_Rev.', 'Has_Title_Sir.']\n",
    "imputed_df = KNNfill(alldata, usecols, 'Age')\n",
    "alldata['Age'] = imputed_df.Age\n",
    "\n",
    "print(\"OK!\" if alldata.Age.isnull().sum()==0 else \"Imputation Failed!\")\n",
    "\n",
    "imputed_df.loc[imputed_df['orig_Age'].isnull(),('orig_Age','Age')].head()"
   ]
  },
  {
   "cell_type": "code",
   "execution_count": 41,
   "metadata": {
    "ExecuteTime": {
     "end_time": "2018-12-13T13:50:19.810635Z",
     "start_time": "2018-12-13T13:50:19.805963Z"
    }
   },
   "outputs": [
    {
     "name": "stdout",
     "output_type": "stream",
     "text": [
      "[0, 1, 2, 3, 4, 5, 6, 7, 8, 9, 10, 11, 12, 13, 14, 15, 16]\n"
     ]
    }
   ],
   "source": [
    "# discretize age to 5 year bins.\n",
    "\n",
    "alldata['Age'] = alldata['Age'].map(lambda s: int(s)//5)\n",
    "print(sorted(list(alldata['Age'].unique())))"
   ]
  },
  {
   "cell_type": "code",
   "execution_count": 42,
   "metadata": {
    "ExecuteTime": {
     "end_time": "2018-12-13T13:50:20.664680Z",
     "start_time": "2018-12-13T13:50:20.306503Z"
    }
   },
   "outputs": [
    {
     "name": "stderr",
     "output_type": "stream",
     "text": [
      "/home/alk/.anaconda/envs/dsci/lib/python3.6/site-packages/scipy/stats/stats.py:1713: FutureWarning: Using a non-tuple sequence for multidimensional indexing is deprecated; use `arr[tuple(seq)]` instead of `arr[seq]`. In the future this will be interpreted as an array index, `arr[np.array(seq)]`, which will result either in an error or a different result.\n",
      "  return np.add.reduce(sorted[indexer] * weights, axis=axis) / sumval\n"
     ]
    },
    {
     "data": {
      "text/plain": [
       "(-1, 20)"
      ]
     },
     "execution_count": 42,
     "metadata": {},
     "output_type": "execute_result"
    },
    {
     "data": {
      "image/png": "[encoded data removed]",
      "text/plain": [
       "<Figure size 720x576 with 2 Axes>"
      ]
     },
     "metadata": {},
     "output_type": "display_data"
    }
   ],
   "source": [
    "fig = plt.figure(figsize=(10,8))\n",
    "\n",
    "ax_ag0 = fig.add_axes([0.0, 0.5, 1.0, 0.4]) # lbwh\n",
    "ax_ag1 = fig.add_axes([0.0, 0.0, 1.0, 0.4])\n",
    "\n",
    "ax_ag0 = sns.distplot(alldata.loc[(alldata['Survived']==1),('Age')],\n",
    "                 color='b',\n",
    "                 label='Survived', ax=ax_ag0)\n",
    "\n",
    "ax_ag_1 = sns.distplot(alldata.loc[(alldata['Survived']==0),('Age')],\n",
    "                 color='r',\n",
    "                 label='Not Survived', ax=ax_ag1)\n",
    "\n",
    "plt.title('Survivors v/s Non Survivors by Grouped Age',\n",
    "          loc='center', pad = 300 )\n",
    "ax_ag0.legend()\n",
    "ax_ag0.set_ylabel('Probability')\n",
    "ax_ag0.set_xlabel('Age Group')\n",
    "ax_ag0.set_xlim(-1,20)\n",
    "ax_ag1.legend()\n",
    "ax_ag1.set_ylabel('Probability')\n",
    "ax_ag1.set_xlabel('Age Group')\n",
    "ax_ag1.set_xlim(-1,20)"
   ]
  },
  {
   "cell_type": "code",
   "execution_count": 43,
   "metadata": {
    "ExecuteTime": {
     "end_time": "2018-12-13T13:50:21.174516Z",
     "start_time": "2018-12-13T13:50:21.168820Z"
    }
   },
   "outputs": [],
   "source": [
    "# dummify\n",
    "\n",
    "\n",
    "alldata = pd.get_dummies(alldata, columns=['Age'], prefix='In_AgeGRP')"
   ]
  },
  {
   "cell_type": "code",
   "execution_count": null,
   "metadata": {
    "deletable": false,
    "editable": false,
    "run_control": {
     "frozen": true
    }
   },
   "outputs": [],
   "source": [
    "# Age - Use Sex, Pclass, Parch, SibSp, Prefix to Fill Age\n",
    "\n",
    "from fancyimpute import KNN\n",
    "\n",
    "minage = alldata.loc[alldata['Age'].notnull(),('Age')].min()\n",
    "maxage = alldata.loc[alldata['Age'].notnull(),('Age')].max()\n",
    "medianage = alldata.loc[alldata['Age'].notnull(),('Age')].mean()\n",
    "\n",
    "cols = ['Sex', 'Pclass', 'Parch', 'SibSp', 'Prefix', 'Age']\n",
    "targetdf = alldata.fillna(value=float('NaN')).copy().loc[:, cols]\n",
    "predictage = KNN(k=5, min_value=minage, max_value=maxage)\n",
    "imp_agesdf = pd.DataFrame(data=predictage.fit_transform(targetdf),\n",
    "                          columns=cols)\n",
    "\n",
    "imp_agesdf['orig_ages'] = targetdf.loc[:, ('Age')]\n",
    "imp_agesdf.loc[imp_agesdf['orig_ages'].isnull() == True].head()\n",
    "\n",
    "imp_minage = imp_agesdf.loc[alldata['Age'].notnull(),('Age')].min()\n",
    "imp_maxage = imp_agesdf.loc[alldata['Age'].notnull(),('Age')].max()\n",
    "imp_medianage = imp_agesdf.loc[alldata['Age'].notnull(),('Age')].mean()\n",
    "\n",
    "print(\"Min:{}->{},Mean:{}->{},Max:{}->{}\".format(minage,imp_minage,\n",
    "                                                medianage, imp_medianage,\n",
    "                                                maxage, imp_maxage))"
   ]
  },
  {
   "cell_type": "code",
   "execution_count": 44,
   "metadata": {
    "ExecuteTime": {
     "end_time": "2018-12-13T13:50:22.011928Z",
     "start_time": "2018-12-13T13:50:21.670810Z"
    }
   },
   "outputs": [
    {
     "data": {
      "text/plain": [
       "Text(0, 0.5, 'Frequency')"
      ]
     },
     "execution_count": 44,
     "metadata": {},
     "output_type": "execute_result"
    },
    {
     "data": {
      "image/png": "[encoded data removed]",
      "text/plain": [
       "<Figure size 720x576 with 2 Axes>"
      ]
     },
     "metadata": {},
     "output_type": "display_data"
    }
   ],
   "source": [
    "# SibSp and Parch -> Family Size\n",
    "\n",
    "# switch of scipy.stats warning for enforced use of arr[np.array(seq)]\n",
    "np.warnings.filterwarnings('ignore')\n",
    "\n",
    "alldata[('FamilySize')] = alldata[('SibSp')] + alldata[('Parch')] + 1\n",
    "\n",
    "fig = plt.figure(figsize=(10,8))\n",
    "ax = fig.add_subplot(111)\n",
    "\n",
    "ax = sns.barplot(x='FamilySize',y='Survived',data=alldata,alpha=0.5)\n",
    "for c in ax.patches:\n",
    "    c.set_zorder(0)\n",
    "\n",
    "ax2 = ax.twinx()\n",
    "sns.lineplot(x=np.arange(0, len(alldata.FamilySize.unique())),\n",
    "                        y=alldata.FamilySize.value_counts(),\n",
    "             ax=ax2)\n",
    "\n",
    "ax2.set_ylabel('Frequency')"
   ]
  },
  {
   "cell_type": "code",
   "execution_count": 45,
   "metadata": {
    "ExecuteTime": {
     "end_time": "2018-12-13T13:50:22.538385Z",
     "start_time": "2018-12-13T13:50:22.529604Z"
    }
   },
   "outputs": [],
   "source": [
    "# create newer features for family sizes\n",
    "alldata['FS_Single'] = alldata['FamilySize'].map(lambda s: 1 if s == 1 else 0)\n",
    "alldata['FS_Small'] = alldata['FamilySize'].map(lambda s: 1 if s == 2 else 0)\n",
    "alldata['FS_Medium'] = alldata['FamilySize'].map(lambda s: 1 if 3 <= s <= 4 else 0)\n",
    "alldata['FS_Large'] = alldata['FamilySize'].map(lambda s: 1 if s >= 5 else 0)"
   ]
  },
  {
   "cell_type": "code",
   "execution_count": 46,
   "metadata": {
    "ExecuteTime": {
     "end_time": "2018-12-13T13:50:23.081468Z",
     "start_time": "2018-12-13T13:50:23.069942Z"
    }
   },
   "outputs": [
    {
     "data": {
      "text/plain": [
       "Index(['Survived', 'Ticket', 'Fare', 'Cabin', 'Embarked', 'origin', 'Pclass_1',\n",
       "       'Pclass_2', 'Pclass_3', 'Has_Title_Capt.', 'Has_Title_Col.',\n",
       "       'Has_Title_Countess.', 'Has_Title_Don.', 'Has_Title_Dr.',\n",
       "       'Has_Title_Jonkheer.', 'Has_Title_Lady.', 'Has_Title_Major.',\n",
       "       'Has_Title_Master.', 'Has_Title_Miss.', 'Has_Title_Mlle.',\n",
       "       'Has_Title_Mme.', 'Has_Title_Mr.', 'Has_Title_Mrs.', 'Has_Title_Ms.',\n",
       "       'Has_Title_Rev.', 'Has_Title_Sir.', 'Is_female', 'Is_male',\n",
       "       'In_AgeGRP_0', 'In_AgeGRP_1', 'In_AgeGRP_2', 'In_AgeGRP_3',\n",
       "       'In_AgeGRP_4', 'In_AgeGRP_5', 'In_AgeGRP_6', 'In_AgeGRP_7',\n",
       "       'In_AgeGRP_8', 'In_AgeGRP_9', 'In_AgeGRP_10', 'In_AgeGRP_11',\n",
       "       'In_AgeGRP_12', 'In_AgeGRP_13', 'In_AgeGRP_14', 'In_AgeGRP_15',\n",
       "       'In_AgeGRP_16', 'FamilySize', 'FS_Single', 'FS_Small', 'FS_Medium',\n",
       "       'FS_Large', 'SibSp_0', 'SibSp_1', 'SibSp_2', 'SibSp_3', 'SibSp_4',\n",
       "       'SibSp_5', 'SibSp_8', 'Parch_0', 'Parch_1', 'Parch_2', 'Parch_3',\n",
       "       'Parch_4', 'Parch_5', 'Parch_6', 'Parch_9'],\n",
       "      dtype='object')"
      ]
     },
     "execution_count": 46,
     "metadata": {},
     "output_type": "execute_result"
    }
   ],
   "source": [
    "# Cat Codes for SibSp and Parch\n",
    "\n",
    "alldata = pd.get_dummies(alldata, columns=[\"SibSp\"])\n",
    "alldata = pd.get_dummies(alldata, columns=[\"Parch\"])\n",
    "\n",
    "alldata.columns"
   ]
  },
  {
   "cell_type": "code",
   "execution_count": 47,
   "metadata": {
    "ExecuteTime": {
     "end_time": "2018-12-13T13:50:23.936398Z",
     "start_time": "2018-12-13T13:50:23.586396Z"
    }
   },
   "outputs": [
    {
     "data": {
      "text/html": [
       "<div>\n",
       "<style scoped>\n",
       "    .dataframe tbody tr th:only-of-type {\n",
       "        vertical-align: middle;\n",
       "    }\n",
       "\n",
       "    .dataframe tbody tr th {\n",
       "        vertical-align: top;\n",
       "    }\n",
       "\n",
       "    .dataframe thead th {\n",
       "        text-align: right;\n",
       "    }\n",
       "</style>\n",
       "<table border=\"1\" class=\"dataframe\">\n",
       "  <thead>\n",
       "    <tr style=\"text-align: right;\">\n",
       "      <th></th>\n",
       "      <th>TKTHEADER</th>\n",
       "      <th>TKTNUM</th>\n",
       "    </tr>\n",
       "  </thead>\n",
       "  <tbody>\n",
       "    <tr>\n",
       "      <th>0</th>\n",
       "      <td>A5</td>\n",
       "      <td>21171.0</td>\n",
       "    </tr>\n",
       "    <tr>\n",
       "      <th>1</th>\n",
       "      <td>PC</td>\n",
       "      <td>17599.0</td>\n",
       "    </tr>\n",
       "    <tr>\n",
       "      <th>2</th>\n",
       "      <td>STONO2</td>\n",
       "      <td>3101282.0</td>\n",
       "    </tr>\n",
       "    <tr>\n",
       "      <th>3</th>\n",
       "      <td>NaN</td>\n",
       "      <td>113803.0</td>\n",
       "    </tr>\n",
       "    <tr>\n",
       "      <th>4</th>\n",
       "      <td>NaN</td>\n",
       "      <td>373450.0</td>\n",
       "    </tr>\n",
       "  </tbody>\n",
       "</table>\n",
       "</div>"
      ],
      "text/plain": [
       "  TKTHEADER     TKTNUM\n",
       "0        A5    21171.0\n",
       "1        PC    17599.0\n",
       "2    STONO2  3101282.0\n",
       "3       NaN   113803.0\n",
       "4       NaN   373450.0"
      ]
     },
     "execution_count": 47,
     "metadata": {},
     "output_type": "execute_result"
    }
   ],
   "source": [
    "def parse_ticket(s:str)->(str, int):\n",
    "    if s.strip(\" \").isnumeric():\n",
    "        return float('NaN'), int(s)\n",
    "    elif s.strip(\" \").isalpha():\n",
    "        return s.strip(\" \"), int(0)\n",
    "    else:\n",
    "        try:\n",
    "            xstr = s.replace('.','').replace('/','').strip(' ').split(' ')\n",
    "            s,i = ''.join(xstr[0:-1]),xstr[-1]\n",
    "            return s, int(i)\n",
    "        except:\n",
    "            xstr = s.replace('.','').replace('/','').strip(' ').split(' ')\n",
    "            ss,i = ''.join(xstr[0:-1]),xstr[-1]\n",
    "            print(s,ss, i)\n",
    "    \n",
    "alldata[[\"TKTHEADER\",\"TKTNUM\"]] = alldata.apply(lambda s: pd.Series(parse_ticket(s[\"Ticket\"])),\n",
    "                                                               axis=1)\n",
    "alldata[['TKTHEADER','TKTNUM']].head()"
   ]
  },
  {
   "cell_type": "code",
   "execution_count": 48,
   "metadata": {
    "ExecuteTime": {
     "end_time": "2018-12-13T13:50:24.472166Z",
     "start_time": "2018-12-13T13:50:24.463633Z"
    }
   },
   "outputs": [
    {
     "data": {
      "text/plain": [
       "102"
      ]
     },
     "execution_count": 48,
     "metadata": {},
     "output_type": "execute_result"
    }
   ],
   "source": [
    "# cleaning up\n",
    "alldata['TKTNUM'] = alldata.TKTNUM.astype(np.int32)\n",
    "alldata['TKTHEADER'] = alldata.TKTHEADER.astype(str)\n",
    "alldata.drop(labels=['Ticket'], axis=1, inplace=True)\n",
    "\n",
    "alldata = pd.get_dummies(alldata, columns = ['TKTHEADER'], prefix='TKT_HEADER')\n",
    "\n",
    "len(alldata.columns)"
   ]
  },
  {
   "cell_type": "code",
   "execution_count": 49,
   "metadata": {
    "ExecuteTime": {
     "end_time": "2018-12-13T13:50:25.542247Z",
     "start_time": "2018-12-13T13:50:24.985283Z"
    }
   },
   "outputs": [
    {
     "name": "stdout",
     "output_type": "stream",
     "text": [
      "1\n",
      "Starting Imputation, Printing NaNs for Passed DataFrame::\n",
      "Has_Title_Capt.        0\n",
      "FS_Medium              0\n",
      "In_AgeGRP_4            0\n",
      "TKT_HEADER_PC          0\n",
      "Is_female              0\n",
      "TKT_HEADER_SCPARIS     0\n",
      "In_AgeGRP_8            0\n",
      "SibSp_4                0\n",
      "TKT_HEADER_LINE        0\n",
      "In_AgeGRP_6            0\n",
      "Has_Title_Dr.          0\n",
      "Has_Title_Mme.         0\n",
      "TKT_HEADER_AQ3         0\n",
      "SibSp_1                0\n",
      "Pclass_1               0\n",
      "TKT_HEADER_SOTONO2     0\n",
      "FamilySize             0\n",
      "TKT_HEADER_AS          0\n",
      "Parch_3                0\n",
      "TKT_HEADER_CASOTON     0\n",
      "Has_Title_Rev.         0\n",
      "Has_Title_Don.         0\n",
      "Pclass_3               0\n",
      "SibSp_0                0\n",
      "TKT_HEADER_Fa          0\n",
      "Parch_2                0\n",
      "FS_Single              0\n",
      "Has_Title_Sir.         0\n",
      "TKT_HEADER_C           0\n",
      "TKT_HEADER_PP          0\n",
      "                      ..\n",
      "TKT_HEADER_SOPP        0\n",
      "In_AgeGRP_16           0\n",
      "In_AgeGRP_0            0\n",
      "Parch_0                0\n",
      "In_AgeGRP_7            0\n",
      "Has_Title_Mr.          0\n",
      "Fare                   1\n",
      "TKTNUM                 0\n",
      "TKT_HEADER_WC          0\n",
      "TKT_HEADER_nan         0\n",
      "TKT_HEADER_SWPP        0\n",
      "TKT_HEADER_STONO2      0\n",
      "Has_Title_Countess.    0\n",
      "Has_Title_Mlle.        0\n",
      "TKT_HEADER_SOTONOQ     0\n",
      "In_AgeGRP_2            0\n",
      "Parch_9                0\n",
      "TKT_HEADER_STONOQ      0\n",
      "Has_Title_Lady.        0\n",
      "TKT_HEADER_SCA3        0\n",
      "Parch_6                0\n",
      "TKT_HEADER_CA          0\n",
      "SibSp_8                0\n",
      "Has_Title_Major.       0\n",
      "Is_male                0\n",
      "SibSp_2                0\n",
      "TKT_HEADER_WEP         0\n",
      "In_AgeGRP_1            0\n",
      "TKT_HEADER_A2          0\n",
      "TKT_HEADER_SP          0\n",
      "Length: 98, dtype: int64\n",
      "\n",
      "1 values missing for Fare\n",
      "Imputing row 1/1309 with 0 missing, elapsed time: 0.536\n",
      "Imputing row 101/1309 with 0 missing, elapsed time: 0.537\n",
      "Imputing row 201/1309 with 0 missing, elapsed time: 0.537\n",
      "Imputing row 301/1309 with 0 missing, elapsed time: 0.537\n",
      "Imputing row 401/1309 with 0 missing, elapsed time: 0.537\n",
      "Imputing row 501/1309 with 0 missing, elapsed time: 0.538\n",
      "Imputing row 601/1309 with 0 missing, elapsed time: 0.538\n",
      "Imputing row 701/1309 with 0 missing, elapsed time: 0.538\n",
      "Imputing row 801/1309 with 0 missing, elapsed time: 0.538\n",
      "Imputing row 901/1309 with 0 missing, elapsed time: 0.538\n",
      "Imputing row 1001/1309 with 0 missing, elapsed time: 0.539\n",
      "Imputing row 1101/1309 with 0 missing, elapsed time: 0.539\n",
      "Imputing row 1201/1309 with 0 missing, elapsed time: 0.539\n",
      "Imputing row 1301/1309 with 0 missing, elapsed time: 0.540\n"
     ]
    }
   ],
   "source": [
    "# Fares\n",
    "print(alldata['Fare'].isnull().sum())\n",
    "\n",
    "usecols = set(alldata.columns) - set(['Survived','Cabin',\n",
    "                                      'origin','Embarked',])\n",
    "predcol = 'Fare'\n",
    "\n",
    "imputed_df = KNNfill(alldata,usecols,predcol,100)\n"
   ]
  },
  {
   "cell_type": "code",
   "execution_count": 50,
   "metadata": {
    "ExecuteTime": {
     "end_time": "2018-12-13T13:50:26.228213Z",
     "start_time": "2018-12-13T13:50:26.059061Z"
    }
   },
   "outputs": [
    {
     "name": "stdout",
     "output_type": "stream",
     "text": [
      "Median:11.834761846748309, Predicted:33.2954792813456\n"
     ]
    },
    {
     "data": {
      "text/plain": [
       "<matplotlib.axes._subplots.AxesSubplot at 0x7f7f335c0860>"
      ]
     },
     "execution_count": 50,
     "metadata": {},
     "output_type": "execute_result"
    },
    {
     "data": {
      "image/png": "[encoded data removed]",
      "text/plain": [
       "<Figure size 432x288 with 1 Axes>"
      ]
     },
     "metadata": {},
     "output_type": "display_data"
    }
   ],
   "source": [
    "comp_fares = (float(imputed_df.loc[imputed_df['orig_Fare'].isnull(),('Fare')]),\n",
    "              imputed_df.orig_Fare.mean())\n",
    "\n",
    "print('Median:{}, Predicted:{}'.format(*comp_fares))\n",
    "\n",
    "# logshift fares value \n",
    "alldata['Fare'] = np.log1p(imputed_df['Fare'])\n",
    "\n",
    "sns.distplot(alldata['Fare'])"
   ]
  },
  {
   "cell_type": "code",
   "execution_count": 51,
   "metadata": {
    "ExecuteTime": {
     "end_time": "2018-12-13T13:50:26.755385Z",
     "start_time": "2018-12-13T13:50:26.747596Z"
    }
   },
   "outputs": [],
   "source": [
    "# discretizing fares\n",
    "\n",
    "alldata['Fare'] = alldata['Fare'].map(lambda s: int(s/0.5))\n",
    "alldata = pd.get_dummies(alldata, columns=['Fare'], prefix='Fare_group')"
   ]
  },
  {
   "cell_type": "code",
   "execution_count": 52,
   "metadata": {
    "ExecuteTime": {
     "end_time": "2018-12-13T13:50:27.254134Z",
     "start_time": "2018-12-13T13:50:27.251940Z"
    }
   },
   "outputs": [
    {
     "name": "stdout",
     "output_type": "stream",
     "text": [
      "['Survived', 'Cabin', 'Embarked', 'origin', 'Pclass_1', 'Pclass_2', 'Pclass_3', 'Has_Title_Capt.', 'Has_Title_Col.', 'Has_Title_Countess.', 'Has_Title_Don.', 'Has_Title_Dr.', 'Has_Title_Jonkheer.', 'Has_Title_Lady.', 'Has_Title_Major.', 'Has_Title_Master.', 'Has_Title_Miss.', 'Has_Title_Mlle.', 'Has_Title_Mme.', 'Has_Title_Mr.', 'Has_Title_Mrs.', 'Has_Title_Ms.', 'Has_Title_Rev.', 'Has_Title_Sir.', 'Is_female', 'Is_male', 'In_AgeGRP_0', 'In_AgeGRP_1', 'In_AgeGRP_2', 'In_AgeGRP_3', 'In_AgeGRP_4', 'In_AgeGRP_5', 'In_AgeGRP_6', 'In_AgeGRP_7', 'In_AgeGRP_8', 'In_AgeGRP_9', 'In_AgeGRP_10', 'In_AgeGRP_11', 'In_AgeGRP_12', 'In_AgeGRP_13', 'In_AgeGRP_14', 'In_AgeGRP_15', 'In_AgeGRP_16', 'FamilySize', 'FS_Single', 'FS_Small', 'FS_Medium', 'FS_Large', 'SibSp_0', 'SibSp_1', 'SibSp_2', 'SibSp_3', 'SibSp_4', 'SibSp_5', 'SibSp_8', 'Parch_0', 'Parch_1', 'Parch_2', 'Parch_3', 'Parch_4', 'Parch_5', 'Parch_6', 'Parch_9', 'TKTNUM', 'TKT_HEADER_A2', 'TKT_HEADER_A4', 'TKT_HEADER_A5', 'TKT_HEADER_AQ3', 'TKT_HEADER_AQ4', 'TKT_HEADER_AS', 'TKT_HEADER_C', 'TKT_HEADER_CA', 'TKT_HEADER_CASOTON', 'TKT_HEADER_FC', 'TKT_HEADER_FCC', 'TKT_HEADER_Fa', 'TKT_HEADER_LINE', 'TKT_HEADER_LP', 'TKT_HEADER_PC', 'TKT_HEADER_PP', 'TKT_HEADER_PPP', 'TKT_HEADER_SC', 'TKT_HEADER_SCA3', 'TKT_HEADER_SCA4', 'TKT_HEADER_SCAH', 'TKT_HEADER_SCAHBasle', 'TKT_HEADER_SCOW', 'TKT_HEADER_SCPARIS', 'TKT_HEADER_SCParis', 'TKT_HEADER_SOC', 'TKT_HEADER_SOP', 'TKT_HEADER_SOPP', 'TKT_HEADER_SOTONO2', 'TKT_HEADER_SOTONOQ', 'TKT_HEADER_SP', 'TKT_HEADER_STONO2', 'TKT_HEADER_STONOQ', 'TKT_HEADER_SWPP', 'TKT_HEADER_WC', 'TKT_HEADER_WEP', 'TKT_HEADER_nan', 'Fare_group_0', 'Fare_group_2', 'Fare_group_3', 'Fare_group_4', 'Fare_group_5', 'Fare_group_6', 'Fare_group_7', 'Fare_group_8', 'Fare_group_9', 'Fare_group_10', 'Fare_group_11', 'Fare_group_12']\n"
     ]
    }
   ],
   "source": [
    "print(list(alldata.columns))"
   ]
  },
  {
   "cell_type": "code",
   "execution_count": 53,
   "metadata": {
    "ExecuteTime": {
     "end_time": "2018-12-13T13:50:27.969711Z",
     "start_time": "2018-12-13T13:50:27.746991Z"
    }
   },
   "outputs": [
    {
     "data": {
      "text/html": [
       "<div>\n",
       "<style scoped>\n",
       "    .dataframe tbody tr th:only-of-type {\n",
       "        vertical-align: middle;\n",
       "    }\n",
       "\n",
       "    .dataframe tbody tr th {\n",
       "        vertical-align: top;\n",
       "    }\n",
       "\n",
       "    .dataframe thead th {\n",
       "        text-align: right;\n",
       "    }\n",
       "</style>\n",
       "<table border=\"1\" class=\"dataframe\">\n",
       "  <thead>\n",
       "    <tr style=\"text-align: right;\">\n",
       "      <th></th>\n",
       "      <th>Deck</th>\n",
       "      <th>Cabin</th>\n",
       "    </tr>\n",
       "  </thead>\n",
       "  <tbody>\n",
       "    <tr>\n",
       "      <th>1</th>\n",
       "      <td>(C,)</td>\n",
       "      <td>(85,)</td>\n",
       "    </tr>\n",
       "    <tr>\n",
       "      <th>3</th>\n",
       "      <td>(C,)</td>\n",
       "      <td>(123,)</td>\n",
       "    </tr>\n",
       "    <tr>\n",
       "      <th>6</th>\n",
       "      <td>(E,)</td>\n",
       "      <td>(46,)</td>\n",
       "    </tr>\n",
       "    <tr>\n",
       "      <th>10</th>\n",
       "      <td>(G,)</td>\n",
       "      <td>(6,)</td>\n",
       "    </tr>\n",
       "    <tr>\n",
       "      <th>11</th>\n",
       "      <td>(C,)</td>\n",
       "      <td>(103,)</td>\n",
       "    </tr>\n",
       "  </tbody>\n",
       "</table>\n",
       "</div>"
      ],
      "text/plain": [
       "    Deck   Cabin\n",
       "1   (C,)   (85,)\n",
       "3   (C,)  (123,)\n",
       "6   (E,)   (46,)\n",
       "10  (G,)    (6,)\n",
       "11  (C,)  (103,)"
      ]
     },
     "execution_count": 53,
     "metadata": {},
     "output_type": "execute_result"
    }
   ],
   "source": [
    "# Cabins\n",
    "\n",
    "def parse_cabin(s):\n",
    "    \n",
    "    Decks = ['A','B','C','D','E','F','G','T']\n",
    "    DeckSet = set()\n",
    "    sc = s\n",
    "    \n",
    "    if type(s)==float:\n",
    "        return float('NaN'), float('NaN')\n",
    "    else:\n",
    "        for deck_ in Decks:\n",
    "            if deck_ in s:\n",
    "                DeckSet.add(deck_)\n",
    "                s = s.replace(deck_,\"\")\n",
    "        if s == \"\":\n",
    "            return tuple(DeckSet), float('NaN')\n",
    "        else:\n",
    "            Rooms = tuple(int(_s) for _s in s.strip(' ').split(' '))\n",
    "            return tuple(DeckSet), tuple(Rooms)\n",
    "        \n",
    "alldata[['Deck','Cabin']] = alldata.apply(lambda s: pd.Series(parse_cabin(s[\"Cabin\"])),axis=1)\n",
    "alldata.loc[alldata['Deck'].notnull(), ('Deck','Cabin')].head()"
   ]
  },
  {
   "cell_type": "code",
   "execution_count": 54,
   "metadata": {
    "ExecuteTime": {
     "end_time": "2018-12-13T13:50:28.472074Z",
     "start_time": "2018-12-13T13:50:28.466090Z"
    }
   },
   "outputs": [
    {
     "data": {
      "text/plain": [
       "(array(['N/A', 'C', 'E', 'G', 'D', 'A', 'B', 'F', 'FG', 'EF', 'T'],\n",
       "       dtype=object), array(['N/A', 1, 3, 2, 4], dtype=object))"
      ]
     },
     "execution_count": 54,
     "metadata": {},
     "output_type": "execute_result"
    }
   ],
   "source": [
    "alldata['Deck'] = alldata['Deck'].map(lambda s: 'N/A' if type(s)!=tuple else ''.join(s))\n",
    "alldata['Cabin'] = alldata['Cabin'].map(lambda s: 'N/A' if type(s)!=tuple else len(s))\n",
    "alldata.Deck.unique(), alldata.Cabin.unique()"
   ]
  },
  {
   "cell_type": "code",
   "execution_count": 55,
   "metadata": {
    "ExecuteTime": {
     "end_time": "2018-12-13T13:50:29.219296Z",
     "start_time": "2018-12-13T13:50:28.958968Z"
    }
   },
   "outputs": [
    {
     "data": {
      "image/png": "[encoded data removed]",
      "text/plain": [
       "<Figure size 360x360 with 1 Axes>"
      ]
     },
     "metadata": {},
     "output_type": "display_data"
    }
   ],
   "source": [
    "ax_dk  = sns.factorplot(x=\"Deck\",y=\"Survived\",data=alldata,kind=\"bar\"\n",
    "                        ,order=['A','B','C','D','E','F','FE','G','GF','T','N/A'])\n",
    "ax_dk.despine(left=True)\n",
    "ax_dk = ax_dk.set_ylabels(\"Survival Probabilities V/s Decks\")"
   ]
  },
  {
   "cell_type": "code",
   "execution_count": 56,
   "metadata": {
    "ExecuteTime": {
     "end_time": "2018-12-13T13:50:29.932473Z",
     "start_time": "2018-12-13T13:50:29.735778Z"
    }
   },
   "outputs": [
    {
     "data": {
      "image/png": "[encoded data removed]",
      "text/plain": [
       "<Figure size 360x360 with 1 Axes>"
      ]
     },
     "metadata": {},
     "output_type": "display_data"
    }
   ],
   "source": [
    "ax_cb  = sns.factorplot(x=\"Cabin\",y=\"Survived\",data=alldata,kind=\"bar\"\n",
    "                        ,order=[1,2,3,4,'N/A'])\n",
    "ax_cb.despine(left=True)\n",
    "ax_cb = ax_cb.set_ylabels(\"Survival Probabilities V/s Allocated Rooms\")"
   ]
  },
  {
   "cell_type": "code",
   "execution_count": 57,
   "metadata": {
    "ExecuteTime": {
     "end_time": "2018-12-13T13:50:30.435318Z",
     "start_time": "2018-12-13T13:50:30.424816Z"
    }
   },
   "outputs": [
    {
     "data": {
      "text/plain": [
       "Index(['Survived', 'Embarked', 'origin', 'Pclass_1', 'Pclass_2', 'Pclass_3',\n",
       "       'Has_Title_Capt.', 'Has_Title_Col.', 'Has_Title_Countess.',\n",
       "       'Has_Title_Don.',\n",
       "       ...\n",
       "       'Deck_F', 'Deck_FG', 'Deck_G', 'Deck_N/A', 'Deck_T', 'Num_Rooms_is_1',\n",
       "       'Num_Rooms_is_2', 'Num_Rooms_is_3', 'Num_Rooms_is_4',\n",
       "       'Num_Rooms_is_N/A'],\n",
       "      dtype='object', length=128)"
      ]
     },
     "execution_count": 57,
     "metadata": {},
     "output_type": "execute_result"
    }
   ],
   "source": [
    "alldata = pd.get_dummies(alldata, columns=['Deck'], prefix='Deck')\n",
    "alldata = pd.get_dummies(alldata, columns=['Cabin'], prefix='Num_Rooms_is')\n",
    "alldata.columns"
   ]
  },
  {
   "cell_type": "code",
   "execution_count": 58,
   "metadata": {
    "ExecuteTime": {
     "end_time": "2018-12-13T13:50:30.944588Z",
     "start_time": "2018-12-13T13:50:30.941227Z"
    }
   },
   "outputs": [
    {
     "data": {
      "text/plain": [
       "array(['S', 'C', 'Q', nan], dtype=object)"
      ]
     },
     "execution_count": 58,
     "metadata": {},
     "output_type": "execute_result"
    }
   ],
   "source": [
    "# Embarked\n",
    "alldata['Embarked'].unique()"
   ]
  },
  {
   "cell_type": "code",
   "execution_count": 59,
   "metadata": {
    "ExecuteTime": {
     "end_time": "2018-12-13T13:50:31.440509Z",
     "start_time": "2018-12-13T13:50:31.432686Z"
    }
   },
   "outputs": [
    {
     "data": {
      "text/plain": [
       "2"
      ]
     },
     "execution_count": 59,
     "metadata": {},
     "output_type": "execute_result"
    }
   ],
   "source": [
    "EmbMap = {'C':0, 'Q':1, 'S':2}\n",
    "\n",
    "alldata['Embarked'] = alldata['Embarked'].map(lambda s: np.nan if type(s)==float else EmbMap[str(s)])\n",
    "\n",
    "alldata['Embarked'].isnull().sum()"
   ]
  },
  {
   "cell_type": "code",
   "execution_count": 60,
   "metadata": {
    "ExecuteTime": {
     "end_time": "2018-12-13T13:50:32.614381Z",
     "start_time": "2018-12-13T13:50:31.936376Z"
    },
    "scrolled": false
   },
   "outputs": [
    {
     "name": "stdout",
     "output_type": "stream",
     "text": [
      "Starting Imputation, Printing NaNs for Passed DataFrame::\n",
      "Has_Title_Capt.        0\n",
      "FS_Medium              0\n",
      "TKT_HEADER_SCPARIS     0\n",
      "SibSp_4                0\n",
      "TKT_HEADER_LINE        0\n",
      "Has_Title_Mme.         0\n",
      "TKT_HEADER_AQ3         0\n",
      "SibSp_1                0\n",
      "Fare_group_11          0\n",
      "Deck_F                 0\n",
      "Fare_group_10          0\n",
      "FamilySize             0\n",
      "TKT_HEADER_CASOTON     0\n",
      "Has_Title_Don.         0\n",
      "Pclass_3               0\n",
      "SibSp_0                0\n",
      "Deck_T                 0\n",
      "Has_Title_Sir.         0\n",
      "Num_Rooms_is_4         0\n",
      "TKT_HEADER_SC          0\n",
      "FS_Large               0\n",
      "Has_Title_Master.      0\n",
      "Fare_group_5           0\n",
      "In_AgeGRP_5            0\n",
      "TKT_HEADER_FCC         0\n",
      "TKT_HEADER_FC          0\n",
      "In_AgeGRP_14           0\n",
      "In_AgeGRP_12           0\n",
      "Deck_D                 0\n",
      "Parch_1                0\n",
      "                      ..\n",
      "Embarked               2\n",
      "Has_Title_Miss.        0\n",
      "Has_Title_Jonkheer.    0\n",
      "Has_Title_Col.         0\n",
      "In_AgeGRP_13           0\n",
      "TKT_HEADER_SCParis     0\n",
      "Parch_4                0\n",
      "SibSp_3                0\n",
      "In_AgeGRP_11           0\n",
      "TKT_HEADER_SOPP        0\n",
      "Deck_B                 0\n",
      "Fare_group_7           0\n",
      "In_AgeGRP_0            0\n",
      "Deck_A                 0\n",
      "In_AgeGRP_7            0\n",
      "TKT_HEADER_WC          0\n",
      "Fare_group_8           0\n",
      "TKT_HEADER_STONO2      0\n",
      "Has_Title_Mlle.        0\n",
      "In_AgeGRP_2            0\n",
      "Parch_9                0\n",
      "TKT_HEADER_STONOQ      0\n",
      "Deck_E                 0\n",
      "Parch_6                0\n",
      "TKT_HEADER_CA          0\n",
      "SibSp_2                0\n",
      "In_AgeGRP_1            0\n",
      "TKT_HEADER_A2          0\n",
      "TKT_HEADER_nan         0\n",
      "Deck_G                 0\n",
      "Length: 126, dtype: int64\n",
      "\n",
      "2 values missing for Embarked\n",
      "Imputing row 1/1309 with 0 missing, elapsed time: 0.658\n",
      "Imputing row 101/1309 with 0 missing, elapsed time: 0.658\n",
      "Imputing row 201/1309 with 0 missing, elapsed time: 0.659\n",
      "Imputing row 301/1309 with 0 missing, elapsed time: 0.659\n",
      "Imputing row 401/1309 with 0 missing, elapsed time: 0.659\n",
      "Imputing row 501/1309 with 0 missing, elapsed time: 0.660\n",
      "Imputing row 601/1309 with 0 missing, elapsed time: 0.660\n",
      "Imputing row 701/1309 with 0 missing, elapsed time: 0.660\n",
      "Imputing row 801/1309 with 0 missing, elapsed time: 0.661\n",
      "Imputing row 901/1309 with 0 missing, elapsed time: 0.661\n",
      "Imputing row 1001/1309 with 0 missing, elapsed time: 0.661\n",
      "Imputing row 1101/1309 with 0 missing, elapsed time: 0.661\n",
      "Imputing row 1201/1309 with 0 missing, elapsed time: 0.662\n",
      "Imputing row 1301/1309 with 0 missing, elapsed time: 0.662\n"
     ]
    }
   ],
   "source": [
    "usecols = set(alldata.columns) - set(['Survived','origin'])\n",
    "\n",
    "predcol = 'Embarked'\n",
    "\n",
    "imputed_df = KNNfill(alldata,usecols,predcol,100)"
   ]
  },
  {
   "cell_type": "code",
   "execution_count": 61,
   "metadata": {
    "ExecuteTime": {
     "end_time": "2018-12-13T13:50:33.127633Z",
     "start_time": "2018-12-13T13:50:33.122582Z"
    }
   },
   "outputs": [
    {
     "data": {
      "text/plain": [
       "array([2, 0, 1])"
      ]
     },
     "execution_count": 61,
     "metadata": {},
     "output_type": "execute_result"
    }
   ],
   "source": [
    "alldata['Embarked'] = imputed_df['Embarked']\n",
    "alldata['Embarked'] = alldata.Embarked.map(lambda s: int(s))\n",
    "\n",
    "alldata.Embarked.unique()"
   ]
  },
  {
   "cell_type": "code",
   "execution_count": 62,
   "metadata": {
    "ExecuteTime": {
     "end_time": "2018-12-13T13:50:33.638897Z",
     "start_time": "2018-12-13T13:50:33.632286Z"
    }
   },
   "outputs": [],
   "source": [
    "#dummies\n",
    "alldata = pd.get_dummies(alldata, columns=['Embarked'], prefix='Embarked_at')"
   ]
  },
  {
   "cell_type": "code",
   "execution_count": 63,
   "metadata": {
    "ExecuteTime": {
     "end_time": "2018-12-13T13:50:34.179398Z",
     "start_time": "2018-12-13T13:50:34.175508Z"
    }
   },
   "outputs": [],
   "source": [
    "tktnumbers = alldata.TKTNUM\n",
    "alldata.drop(labels=['TKTNUM'], axis=1, inplace=True)"
   ]
  },
  {
   "cell_type": "code",
   "execution_count": 64,
   "metadata": {
    "ExecuteTime": {
     "end_time": "2018-12-13T13:50:34.800166Z",
     "start_time": "2018-12-13T13:50:34.724074Z"
    },
    "code_folding": [],
    "scrolled": false
   },
   "outputs": [
    {
     "name": "stdout",
     "output_type": "stream",
     "text": [
      "(!) Exception at:  Survived\n",
      "Survived: UINT8 Safe:\u001b[1m(!) NO\u001b[0m, Type:float64\n",
      "(!) Exception at:  origin\n",
      "origin: UINT8 Safe:\u001b[1m(!) NO\u001b[0m, Type:object\n",
      "Pclass_1: UINT8 Safe:\u001b[1mYES\u001b[0m, Type:uint8\n",
      "Pclass_2: UINT8 Safe:\u001b[1mYES\u001b[0m, Type:uint8\n",
      "Pclass_3: UINT8 Safe:\u001b[1mYES\u001b[0m, Type:uint8\n",
      "Has_Title_Capt.: UINT8 Safe:\u001b[1mYES\u001b[0m, Type:uint8\n",
      "Has_Title_Col.: UINT8 Safe:\u001b[1mYES\u001b[0m, Type:uint8\n",
      "Has_Title_Countess.: UINT8 Safe:\u001b[1mYES\u001b[0m, Type:uint8\n",
      "Has_Title_Don.: UINT8 Safe:\u001b[1mYES\u001b[0m, Type:uint8\n",
      "Has_Title_Dr.: UINT8 Safe:\u001b[1mYES\u001b[0m, Type:uint8\n",
      "Has_Title_Jonkheer.: UINT8 Safe:\u001b[1mYES\u001b[0m, Type:uint8\n",
      "Has_Title_Lady.: UINT8 Safe:\u001b[1mYES\u001b[0m, Type:uint8\n",
      "Has_Title_Major.: UINT8 Safe:\u001b[1mYES\u001b[0m, Type:uint8\n",
      "Has_Title_Master.: UINT8 Safe:\u001b[1mYES\u001b[0m, Type:uint8\n",
      "Has_Title_Miss.: UINT8 Safe:\u001b[1mYES\u001b[0m, Type:uint8\n",
      "Has_Title_Mlle.: UINT8 Safe:\u001b[1mYES\u001b[0m, Type:uint8\n",
      "Has_Title_Mme.: UINT8 Safe:\u001b[1mYES\u001b[0m, Type:uint8\n",
      "Has_Title_Mr.: UINT8 Safe:\u001b[1mYES\u001b[0m, Type:uint8\n",
      "Has_Title_Mrs.: UINT8 Safe:\u001b[1mYES\u001b[0m, Type:uint8\n",
      "Has_Title_Ms.: UINT8 Safe:\u001b[1mYES\u001b[0m, Type:uint8\n",
      "Has_Title_Rev.: UINT8 Safe:\u001b[1mYES\u001b[0m, Type:uint8\n",
      "Has_Title_Sir.: UINT8 Safe:\u001b[1mYES\u001b[0m, Type:uint8\n",
      "Is_female: UINT8 Safe:\u001b[1mYES\u001b[0m, Type:uint8\n",
      "Is_male: UINT8 Safe:\u001b[1mYES\u001b[0m, Type:uint8\n",
      "In_AgeGRP_0: UINT8 Safe:\u001b[1mYES\u001b[0m, Type:uint8\n",
      "In_AgeGRP_1: UINT8 Safe:\u001b[1mYES\u001b[0m, Type:uint8\n",
      "In_AgeGRP_2: UINT8 Safe:\u001b[1mYES\u001b[0m, Type:uint8\n",
      "In_AgeGRP_3: UINT8 Safe:\u001b[1mYES\u001b[0m, Type:uint8\n",
      "In_AgeGRP_4: UINT8 Safe:\u001b[1mYES\u001b[0m, Type:uint8\n",
      "In_AgeGRP_5: UINT8 Safe:\u001b[1mYES\u001b[0m, Type:uint8\n",
      "In_AgeGRP_6: UINT8 Safe:\u001b[1mYES\u001b[0m, Type:uint8\n",
      "In_AgeGRP_7: UINT8 Safe:\u001b[1mYES\u001b[0m, Type:uint8\n",
      "In_AgeGRP_8: UINT8 Safe:\u001b[1mYES\u001b[0m, Type:uint8\n",
      "In_AgeGRP_9: UINT8 Safe:\u001b[1mYES\u001b[0m, Type:uint8\n",
      "In_AgeGRP_10: UINT8 Safe:\u001b[1mYES\u001b[0m, Type:uint8\n",
      "In_AgeGRP_11: UINT8 Safe:\u001b[1mYES\u001b[0m, Type:uint8\n",
      "In_AgeGRP_12: UINT8 Safe:\u001b[1mYES\u001b[0m, Type:uint8\n",
      "In_AgeGRP_13: UINT8 Safe:\u001b[1mYES\u001b[0m, Type:uint8\n",
      "In_AgeGRP_14: UINT8 Safe:\u001b[1mYES\u001b[0m, Type:uint8\n",
      "In_AgeGRP_15: UINT8 Safe:\u001b[1mYES\u001b[0m, Type:uint8\n",
      "In_AgeGRP_16: UINT8 Safe:\u001b[1mYES\u001b[0m, Type:uint8\n",
      "FamilySize: UINT8 Safe:\u001b[1mYES\u001b[0m, Type:uint8\n",
      "FS_Single: UINT8 Safe:\u001b[1mYES\u001b[0m, Type:uint8\n",
      "FS_Small: UINT8 Safe:\u001b[1mYES\u001b[0m, Type:uint8\n",
      "FS_Medium: UINT8 Safe:\u001b[1mYES\u001b[0m, Type:uint8\n",
      "FS_Large: UINT8 Safe:\u001b[1mYES\u001b[0m, Type:uint8\n",
      "SibSp_0: UINT8 Safe:\u001b[1mYES\u001b[0m, Type:uint8\n",
      "SibSp_1: UINT8 Safe:\u001b[1mYES\u001b[0m, Type:uint8\n",
      "SibSp_2: UINT8 Safe:\u001b[1mYES\u001b[0m, Type:uint8\n",
      "SibSp_3: UINT8 Safe:\u001b[1mYES\u001b[0m, Type:uint8\n",
      "SibSp_4: UINT8 Safe:\u001b[1mYES\u001b[0m, Type:uint8\n",
      "SibSp_5: UINT8 Safe:\u001b[1mYES\u001b[0m, Type:uint8\n",
      "SibSp_8: UINT8 Safe:\u001b[1mYES\u001b[0m, Type:uint8\n",
      "Parch_0: UINT8 Safe:\u001b[1mYES\u001b[0m, Type:uint8\n",
      "Parch_1: UINT8 Safe:\u001b[1mYES\u001b[0m, Type:uint8\n",
      "Parch_2: UINT8 Safe:\u001b[1mYES\u001b[0m, Type:uint8\n",
      "Parch_3: UINT8 Safe:\u001b[1mYES\u001b[0m, Type:uint8\n",
      "Parch_4: UINT8 Safe:\u001b[1mYES\u001b[0m, Type:uint8\n",
      "Parch_5: UINT8 Safe:\u001b[1mYES\u001b[0m, Type:uint8\n",
      "Parch_6: UINT8 Safe:\u001b[1mYES\u001b[0m, Type:uint8\n",
      "Parch_9: UINT8 Safe:\u001b[1mYES\u001b[0m, Type:uint8\n",
      "TKT_HEADER_A2: UINT8 Safe:\u001b[1mYES\u001b[0m, Type:uint8\n",
      "TKT_HEADER_A4: UINT8 Safe:\u001b[1mYES\u001b[0m, Type:uint8\n",
      "TKT_HEADER_A5: UINT8 Safe:\u001b[1mYES\u001b[0m, Type:uint8\n",
      "TKT_HEADER_AQ3: UINT8 Safe:\u001b[1mYES\u001b[0m, Type:uint8\n",
      "TKT_HEADER_AQ4: UINT8 Safe:\u001b[1mYES\u001b[0m, Type:uint8\n",
      "TKT_HEADER_AS: UINT8 Safe:\u001b[1mYES\u001b[0m, Type:uint8\n",
      "TKT_HEADER_C: UINT8 Safe:\u001b[1mYES\u001b[0m, Type:uint8\n",
      "TKT_HEADER_CA: UINT8 Safe:\u001b[1mYES\u001b[0m, Type:uint8\n",
      "TKT_HEADER_CASOTON: UINT8 Safe:\u001b[1mYES\u001b[0m, Type:uint8\n",
      "TKT_HEADER_FC: UINT8 Safe:\u001b[1mYES\u001b[0m, Type:uint8\n",
      "TKT_HEADER_FCC: UINT8 Safe:\u001b[1mYES\u001b[0m, Type:uint8\n",
      "TKT_HEADER_Fa: UINT8 Safe:\u001b[1mYES\u001b[0m, Type:uint8\n",
      "TKT_HEADER_LINE: UINT8 Safe:\u001b[1mYES\u001b[0m, Type:uint8\n",
      "TKT_HEADER_LP: UINT8 Safe:\u001b[1mYES\u001b[0m, Type:uint8\n",
      "TKT_HEADER_PC: UINT8 Safe:\u001b[1mYES\u001b[0m, Type:uint8\n",
      "TKT_HEADER_PP: UINT8 Safe:\u001b[1mYES\u001b[0m, Type:uint8\n",
      "TKT_HEADER_PPP: UINT8 Safe:\u001b[1mYES\u001b[0m, Type:uint8\n",
      "TKT_HEADER_SC: UINT8 Safe:\u001b[1mYES\u001b[0m, Type:uint8\n",
      "TKT_HEADER_SCA3: UINT8 Safe:\u001b[1mYES\u001b[0m, Type:uint8\n",
      "TKT_HEADER_SCA4: UINT8 Safe:\u001b[1mYES\u001b[0m, Type:uint8\n",
      "TKT_HEADER_SCAH: UINT8 Safe:\u001b[1mYES\u001b[0m, Type:uint8\n",
      "TKT_HEADER_SCAHBasle: UINT8 Safe:\u001b[1mYES\u001b[0m, Type:uint8\n",
      "TKT_HEADER_SCOW: UINT8 Safe:\u001b[1mYES\u001b[0m, Type:uint8\n",
      "TKT_HEADER_SCPARIS: UINT8 Safe:\u001b[1mYES\u001b[0m, Type:uint8\n",
      "TKT_HEADER_SCParis: UINT8 Safe:\u001b[1mYES\u001b[0m, Type:uint8\n",
      "TKT_HEADER_SOC: UINT8 Safe:\u001b[1mYES\u001b[0m, Type:uint8\n",
      "TKT_HEADER_SOP: UINT8 Safe:\u001b[1mYES\u001b[0m, Type:uint8\n",
      "TKT_HEADER_SOPP: UINT8 Safe:\u001b[1mYES\u001b[0m, Type:uint8\n",
      "TKT_HEADER_SOTONO2: UINT8 Safe:\u001b[1mYES\u001b[0m, Type:uint8\n",
      "TKT_HEADER_SOTONOQ: UINT8 Safe:\u001b[1mYES\u001b[0m, Type:uint8\n",
      "TKT_HEADER_SP: UINT8 Safe:\u001b[1mYES\u001b[0m, Type:uint8\n",
      "TKT_HEADER_STONO2: UINT8 Safe:\u001b[1mYES\u001b[0m, Type:uint8\n",
      "TKT_HEADER_STONOQ: UINT8 Safe:\u001b[1mYES\u001b[0m, Type:uint8\n",
      "TKT_HEADER_SWPP: UINT8 Safe:\u001b[1mYES\u001b[0m, Type:uint8\n",
      "TKT_HEADER_WC: UINT8 Safe:\u001b[1mYES\u001b[0m, Type:uint8\n",
      "TKT_HEADER_WEP: UINT8 Safe:\u001b[1mYES\u001b[0m, Type:uint8\n",
      "TKT_HEADER_nan: UINT8 Safe:\u001b[1mYES\u001b[0m, Type:uint8\n",
      "Fare_group_0: UINT8 Safe:\u001b[1mYES\u001b[0m, Type:uint8\n",
      "Fare_group_2: UINT8 Safe:\u001b[1mYES\u001b[0m, Type:uint8\n",
      "Fare_group_3: UINT8 Safe:\u001b[1mYES\u001b[0m, Type:uint8\n",
      "Fare_group_4: UINT8 Safe:\u001b[1mYES\u001b[0m, Type:uint8\n",
      "Fare_group_5: UINT8 Safe:\u001b[1mYES\u001b[0m, Type:uint8\n",
      "Fare_group_6: UINT8 Safe:\u001b[1mYES\u001b[0m, Type:uint8\n",
      "Fare_group_7: UINT8 Safe:\u001b[1mYES\u001b[0m, Type:uint8\n",
      "Fare_group_8: UINT8 Safe:\u001b[1mYES\u001b[0m, Type:uint8\n",
      "Fare_group_9: UINT8 Safe:\u001b[1mYES\u001b[0m, Type:uint8\n",
      "Fare_group_10: UINT8 Safe:\u001b[1mYES\u001b[0m, Type:uint8\n",
      "Fare_group_11: UINT8 Safe:\u001b[1mYES\u001b[0m, Type:uint8\n",
      "Fare_group_12: UINT8 Safe:\u001b[1mYES\u001b[0m, Type:uint8\n",
      "Deck_A: UINT8 Safe:\u001b[1mYES\u001b[0m, Type:uint8\n",
      "Deck_B: UINT8 Safe:\u001b[1mYES\u001b[0m, Type:uint8\n",
      "Deck_C: UINT8 Safe:\u001b[1mYES\u001b[0m, Type:uint8\n",
      "Deck_D: UINT8 Safe:\u001b[1mYES\u001b[0m, Type:uint8\n",
      "Deck_E: UINT8 Safe:\u001b[1mYES\u001b[0m, Type:uint8\n",
      "Deck_EF: UINT8 Safe:\u001b[1mYES\u001b[0m, Type:uint8\n",
      "Deck_F: UINT8 Safe:\u001b[1mYES\u001b[0m, Type:uint8\n",
      "Deck_FG: UINT8 Safe:\u001b[1mYES\u001b[0m, Type:uint8\n",
      "Deck_G: UINT8 Safe:\u001b[1mYES\u001b[0m, Type:uint8\n",
      "Deck_N/A: UINT8 Safe:\u001b[1mYES\u001b[0m, Type:uint8\n",
      "Deck_T: UINT8 Safe:\u001b[1mYES\u001b[0m, Type:uint8\n",
      "Num_Rooms_is_1: UINT8 Safe:\u001b[1mYES\u001b[0m, Type:uint8\n",
      "Num_Rooms_is_2: UINT8 Safe:\u001b[1mYES\u001b[0m, Type:uint8\n",
      "Num_Rooms_is_3: UINT8 Safe:\u001b[1mYES\u001b[0m, Type:uint8\n",
      "Num_Rooms_is_4: UINT8 Safe:\u001b[1mYES\u001b[0m, Type:uint8\n",
      "Num_Rooms_is_N/A: UINT8 Safe:\u001b[1mYES\u001b[0m, Type:uint8\n",
      "Embarked_at_0: UINT8 Safe:\u001b[1mYES\u001b[0m, Type:uint8\n",
      "Embarked_at_1: UINT8 Safe:\u001b[1mYES\u001b[0m, Type:uint8\n",
      "Embarked_at_2: UINT8 Safe:\u001b[1mYES\u001b[0m, Type:uint8\n"
     ]
    }
   ],
   "source": [
    "# forced typecasting\n",
    "\n",
    "uint8check = lambda x: True if x.max() <= 255 else False\n",
    "\n",
    "for col in alldata.columns:\n",
    "    safestr = ''\n",
    "    try:\n",
    "        safestr = 'YES' if uint8check(alldata[col]) else '(!) NO'\n",
    "        if uint8check(alldata[col]):\n",
    "            alldata[col] = alldata[col].astype(np.uint8)\n",
    "    except:\n",
    "        print('(!) Exception at: ',col)\n",
    "        safestr = '(!) NO'\n",
    "    print(\"{}: UINT8 Safe:\\033[1m{}\\033[0m, Type:{}\".format(col,\n",
    "                                            safestr,\n",
    "                                            alldata[col].dtype))\n",
    "\n",
    "\n"
   ]
  },
  {
   "cell_type": "markdown",
   "metadata": {},
   "source": [
    "# Model Building"
   ]
  },
  {
   "cell_type": "code",
   "execution_count": 65,
   "metadata": {
    "ExecuteTime": {
     "end_time": "2018-12-13T13:50:35.383860Z",
     "start_time": "2018-12-13T13:50:35.351176Z"
    }
   },
   "outputs": [],
   "source": [
    "# Imports\n",
    "from collections import Counter, OrderedDict\n",
    "from sklearn.svm import SVC\n",
    "from sklearn.tree import DecisionTreeClassifier\n",
    "from sklearn.neural_network import MLPClassifier\n",
    "from sklearn.neighbors import KNeighborsClassifier\n",
    "from sklearn.discriminant_analysis import LinearDiscriminantAnalysis\n",
    "from sklearn.linear_model import LogisticRegression\n",
    "from sklearn.ensemble import RandomForestClassifier, AdaBoostClassifier\n",
    "from sklearn.ensemble import GradientBoostingClassifier, ExtraTreesClassifier,VotingClassifier\n",
    "from sklearn.model_selection import cross_val_score, StratifiedKFold, learning_curve\n",
    "from sklearn.model_selection import GridSearchCV\n",
    "import multiprocessing"
   ]
  },
  {
   "cell_type": "code",
   "execution_count": 66,
   "metadata": {
    "ExecuteTime": {
     "end_time": "2018-12-13T13:50:36.181261Z",
     "start_time": "2018-12-13T13:50:35.922831Z"
    }
   },
   "outputs": [
    {
     "data": {
      "text/plain": [
       "((891, 128), (418, 127))"
      ]
     },
     "execution_count": 66,
     "metadata": {},
     "output_type": "execute_result"
    }
   ],
   "source": [
    "# prepare testing and training datasets\n",
    "\n",
    "train = alldata.copy().loc[alldata['origin']=='train']\n",
    "test = alldata.copy().loc[alldata['origin']=='test']\n",
    "\n",
    "\n",
    "train.drop(labels=['origin'], axis=1, inplace=True)\n",
    "train['Survived'] = train['Survived'].astype(np.uint8)\n",
    "test.drop(labels=['Survived', 'origin'], axis = 1, inplace=True)\n",
    "\n",
    "train.shape, test.shape"
   ]
  },
  {
   "cell_type": "code",
   "execution_count": 67,
   "metadata": {
    "ExecuteTime": {
     "end_time": "2018-12-13T13:50:36.827299Z",
     "start_time": "2018-12-13T13:50:36.822177Z"
    }
   },
   "outputs": [
    {
     "data": {
      "text/plain": [
       "((891, 127), (891,), pandas.core.series.Series)"
      ]
     },
     "execution_count": 67,
     "metadata": {},
     "output_type": "execute_result"
    }
   ],
   "source": [
    "X_train, Y_train = train.drop(labels=['Survived'], axis=1), train.Survived.astype(int)\n",
    "\n",
    "X_train.shape, Y_train.shape, type(Y_train)"
   ]
  },
  {
   "cell_type": "code",
   "execution_count": 68,
   "metadata": {
    "ExecuteTime": {
     "end_time": "2018-12-13T13:50:37.504349Z",
     "start_time": "2018-12-13T13:50:37.495148Z"
    }
   },
   "outputs": [
    {
     "data": {
      "text/plain": [
       "OrderedDict([('SVC', SVC(C=1.0, cache_size=200, class_weight=None, coef0=0.0,\n",
       "                decision_function_shape='ovr', degree=3, gamma='auto_deprecated',\n",
       "                kernel='rbf', max_iter=-1, probability=False, random_state=42,\n",
       "                shrinking=True, tol=0.001, verbose=False)),\n",
       "             ('DecisionTree',\n",
       "              DecisionTreeClassifier(class_weight=None, criterion='gini', max_depth=None,\n",
       "                          max_features=None, max_leaf_nodes=None,\n",
       "                          min_impurity_decrease=0.0, min_impurity_split=None,\n",
       "                          min_samples_leaf=1, min_samples_split=2,\n",
       "                          min_weight_fraction_leaf=0.0, presort=False, random_state=42,\n",
       "                          splitter='best')),\n",
       "             ('MLPClassifier',\n",
       "              MLPClassifier(activation='relu', alpha=0.0001, batch_size='auto', beta_1=0.9,\n",
       "                     beta_2=0.999, early_stopping=False, epsilon=1e-08,\n",
       "                     hidden_layer_sizes=(100,), learning_rate='constant',\n",
       "                     learning_rate_init=0.001, max_iter=200, momentum=0.9,\n",
       "                     n_iter_no_change=10, nesterovs_momentum=True, power_t=0.5,\n",
       "                     random_state=42, shuffle=True, solver='adam', tol=0.0001,\n",
       "                     validation_fraction=0.1, verbose=False, warm_start=False)),\n",
       "             ('KNN',\n",
       "              KNeighborsClassifier(algorithm='auto', leaf_size=30, metric='minkowski',\n",
       "                         metric_params=None, n_jobs=None, n_neighbors=5, p=2,\n",
       "                         weights='uniform')),\n",
       "             ('LinDA',\n",
       "              LinearDiscriminantAnalysis(n_components=None, priors=None, shrinkage=None,\n",
       "                            solver='svd', store_covariance=False, tol=0.0001)),\n",
       "             ('LogRegress',\n",
       "              LogisticRegression(C=1.0, class_weight=None, dual=False, fit_intercept=True,\n",
       "                        intercept_scaling=1, max_iter=100, multi_class='warn',\n",
       "                        n_jobs=None, penalty='l2', random_state=42, solver='warn',\n",
       "                        tol=0.0001, verbose=0, warm_start=False)),\n",
       "             ('RandomForest',\n",
       "              RandomForestClassifier(bootstrap=True, class_weight=None, criterion='gini',\n",
       "                          max_depth=None, max_features='auto', max_leaf_nodes=None,\n",
       "                          min_impurity_decrease=0.0, min_impurity_split=None,\n",
       "                          min_samples_leaf=1, min_samples_split=2,\n",
       "                          min_weight_fraction_leaf=0.0, n_estimators='warn', n_jobs=None,\n",
       "                          oob_score=False, random_state=42, verbose=0, warm_start=False)),\n",
       "             ('ADAboost', AdaBoostClassifier(algorithm='SAMME.R',\n",
       "                        base_estimator=DecisionTreeClassifier(class_weight=None, criterion='gini', max_depth=None,\n",
       "                          max_features=None, max_leaf_nodes=None,\n",
       "                          min_impurity_decrease=0.0, min_impurity_split=None,\n",
       "                          min_samples_leaf=1, min_samples_split=2,\n",
       "                          min_weight_fraction_leaf=0.0, presort=False, random_state=42,\n",
       "                          splitter='best'),\n",
       "                        learning_rate=0.001, n_estimators=50, random_state=42)),\n",
       "             ('Gradboost',\n",
       "              GradientBoostingClassifier(criterion='friedman_mse', init=None,\n",
       "                            learning_rate=0.1, loss='deviance', max_depth=3,\n",
       "                            max_features=None, max_leaf_nodes=None,\n",
       "                            min_impurity_decrease=0.0, min_impurity_split=None,\n",
       "                            min_samples_leaf=1, min_samples_split=2,\n",
       "                            min_weight_fraction_leaf=0.0, n_estimators=100,\n",
       "                            n_iter_no_change=None, presort='auto', random_state=42,\n",
       "                            subsample=1.0, tol=0.0001, validation_fraction=0.1,\n",
       "                            verbose=0, warm_start=False)),\n",
       "             ('ExtraTrees',\n",
       "              ExtraTreesClassifier(bootstrap=False, class_weight=None, criterion='gini',\n",
       "                         max_depth=None, max_features='auto', max_leaf_nodes=None,\n",
       "                         min_impurity_decrease=0.0, min_impurity_split=None,\n",
       "                         min_samples_leaf=1, min_samples_split=2,\n",
       "                         min_weight_fraction_leaf=0.0, n_estimators='warn', n_jobs=None,\n",
       "                         oob_score=False, random_state=42, verbose=0, warm_start=False))])"
      ]
     },
     "execution_count": 68,
     "metadata": {},
     "output_type": "execute_result"
    }
   ],
   "source": [
    "# cobbling together our algorithms\n",
    "\n",
    "random_seed = 42\n",
    "nCPU = 8\n",
    "n_splits=9\n",
    "\n",
    "# preparing for cv-folds\n",
    "kfold = StratifiedKFold(n_splits)\n",
    "\n",
    "classifiers = OrderedDict()\n",
    "classifiers['SVC'] = SVC(random_state=random_seed)\n",
    "classifiers['DecisionTree'] = DecisionTreeClassifier(random_state=random_seed)\n",
    "classifiers['MLPClassifier'] = MLPClassifier(random_state=random_seed)\n",
    "classifiers['KNN'] = KNeighborsClassifier()\n",
    "classifiers['LinDA'] = LinearDiscriminantAnalysis()\n",
    "classifiers['LogRegress'] = LogisticRegression(random_state=random_seed)\n",
    "classifiers['RandomForest'] = RandomForestClassifier(random_state=random_seed)\n",
    "classifiers['ADAboost'] = AdaBoostClassifier(base_estimator=DecisionTreeClassifier(random_state=random_seed),\n",
    "                                            random_state=random_seed, learning_rate=1e-3)\n",
    "classifiers['Gradboost'] = GradientBoostingClassifier(random_state=random_seed)\n",
    "classifiers['ExtraTrees'] = ExtraTreesClassifier(random_state=random_seed)\n",
    "\n",
    "# Voting is for the last\n",
    "\n",
    "classifiers"
   ]
  },
  {
   "cell_type": "code",
   "execution_count": 69,
   "metadata": {
    "ExecuteTime": {
     "end_time": "2018-12-13T13:50:43.646303Z",
     "start_time": "2018-12-13T13:50:38.310947Z"
    }
   },
   "outputs": [
    {
     "name": "stderr",
     "output_type": "stream",
     "text": [
      "[Parallel(n_jobs=8)]: Using backend LokyBackend with 8 concurrent workers.\n",
      "[Parallel(n_jobs=8)]: Done   4 out of   9 | elapsed:    1.5s remaining:    1.8s\n",
      "[Parallel(n_jobs=8)]: Done   9 out of   9 | elapsed:    1.6s finished\n",
      "[Parallel(n_jobs=8)]: Using backend LokyBackend with 8 concurrent workers.\n",
      "[Parallel(n_jobs=8)]: Done   4 out of   9 | elapsed:    0.0s remaining:    0.0s\n",
      "[Parallel(n_jobs=8)]: Done   9 out of   9 | elapsed:    0.0s finished\n",
      "[Parallel(n_jobs=8)]: Using backend LokyBackend with 8 concurrent workers.\n",
      "[Parallel(n_jobs=8)]: Done   4 out of   9 | elapsed:    1.7s remaining:    2.1s\n",
      "[Parallel(n_jobs=8)]: Done   9 out of   9 | elapsed:    2.2s finished\n",
      "[Parallel(n_jobs=8)]: Using backend LokyBackend with 8 concurrent workers.\n",
      "[Parallel(n_jobs=8)]: Done   4 out of   9 | elapsed:    0.0s remaining:    0.0s\n",
      "[Parallel(n_jobs=8)]: Done   9 out of   9 | elapsed:    0.0s finished\n",
      "[Parallel(n_jobs=8)]: Using backend LokyBackend with 8 concurrent workers.\n",
      "[Parallel(n_jobs=8)]: Done   4 out of   9 | elapsed:    0.0s remaining:    0.1s\n",
      "[Parallel(n_jobs=8)]: Done   9 out of   9 | elapsed:    0.1s finished\n",
      "[Parallel(n_jobs=8)]: Using backend LokyBackend with 8 concurrent workers.\n",
      "[Parallel(n_jobs=8)]: Done   4 out of   9 | elapsed:    0.0s remaining:    0.0s\n",
      "[Parallel(n_jobs=8)]: Done   9 out of   9 | elapsed:    0.0s finished\n",
      "[Parallel(n_jobs=8)]: Using backend LokyBackend with 8 concurrent workers.\n",
      "[Parallel(n_jobs=8)]: Done   4 out of   9 | elapsed:    0.0s remaining:    0.1s\n",
      "[Parallel(n_jobs=8)]: Done   9 out of   9 | elapsed:    0.1s finished\n",
      "[Parallel(n_jobs=8)]: Using backend LokyBackend with 8 concurrent workers.\n",
      "[Parallel(n_jobs=8)]: Done   4 out of   9 | elapsed:    0.4s remaining:    0.4s\n",
      "[Parallel(n_jobs=8)]: Done   9 out of   9 | elapsed:    0.6s finished\n",
      "[Parallel(n_jobs=8)]: Using backend LokyBackend with 8 concurrent workers.\n",
      "[Parallel(n_jobs=8)]: Done   4 out of   9 | elapsed:    0.3s remaining:    0.3s\n",
      "[Parallel(n_jobs=8)]: Done   9 out of   9 | elapsed:    0.4s finished\n",
      "[Parallel(n_jobs=8)]: Using backend LokyBackend with 8 concurrent workers.\n",
      "[Parallel(n_jobs=8)]: Done   4 out of   9 | elapsed:    0.0s remaining:    0.0s\n",
      "[Parallel(n_jobs=8)]: Done   9 out of   9 | elapsed:    0.1s finished\n"
     ]
    },
    {
     "data": {
      "text/html": [
       "<div>\n",
       "<style scoped>\n",
       "    .dataframe tbody tr th:only-of-type {\n",
       "        vertical-align: middle;\n",
       "    }\n",
       "\n",
       "    .dataframe tbody tr th {\n",
       "        vertical-align: top;\n",
       "    }\n",
       "\n",
       "    .dataframe thead th {\n",
       "        text-align: right;\n",
       "    }\n",
       "</style>\n",
       "<table border=\"1\" class=\"dataframe\">\n",
       "  <thead>\n",
       "    <tr style=\"text-align: right;\">\n",
       "      <th></th>\n",
       "      <th>Algorithms</th>\n",
       "      <th>mean_score</th>\n",
       "    </tr>\n",
       "  </thead>\n",
       "  <tbody>\n",
       "    <tr>\n",
       "      <th>0</th>\n",
       "      <td>SVC</td>\n",
       "      <td>0.818182</td>\n",
       "    </tr>\n",
       "    <tr>\n",
       "      <th>1</th>\n",
       "      <td>DecisionTree</td>\n",
       "      <td>0.789001</td>\n",
       "    </tr>\n",
       "    <tr>\n",
       "      <th>2</th>\n",
       "      <td>MLPClassifier</td>\n",
       "      <td>0.823793</td>\n",
       "    </tr>\n",
       "    <tr>\n",
       "      <th>3</th>\n",
       "      <td>KNN</td>\n",
       "      <td>0.794613</td>\n",
       "    </tr>\n",
       "    <tr>\n",
       "      <th>4</th>\n",
       "      <td>LinDA</td>\n",
       "      <td>0.827160</td>\n",
       "    </tr>\n",
       "    <tr>\n",
       "      <th>5</th>\n",
       "      <td>LogRegress</td>\n",
       "      <td>0.819304</td>\n",
       "    </tr>\n",
       "    <tr>\n",
       "      <th>6</th>\n",
       "      <td>RandomForest</td>\n",
       "      <td>0.794613</td>\n",
       "    </tr>\n",
       "    <tr>\n",
       "      <th>7</th>\n",
       "      <td>ADAboost</td>\n",
       "      <td>0.801347</td>\n",
       "    </tr>\n",
       "    <tr>\n",
       "      <th>8</th>\n",
       "      <td>Gradboost</td>\n",
       "      <td>0.818182</td>\n",
       "    </tr>\n",
       "    <tr>\n",
       "      <th>9</th>\n",
       "      <td>ExtraTrees</td>\n",
       "      <td>0.796857</td>\n",
       "    </tr>\n",
       "  </tbody>\n",
       "</table>\n",
       "</div>"
      ],
      "text/plain": [
       "      Algorithms  mean_score\n",
       "0            SVC    0.818182\n",
       "1   DecisionTree    0.789001\n",
       "2  MLPClassifier    0.823793\n",
       "3            KNN    0.794613\n",
       "4          LinDA    0.827160\n",
       "5     LogRegress    0.819304\n",
       "6   RandomForest    0.794613\n",
       "7       ADAboost    0.801347\n",
       "8      Gradboost    0.818182\n",
       "9     ExtraTrees    0.796857"
      ]
     },
     "execution_count": 69,
     "metadata": {},
     "output_type": "execute_result"
    }
   ],
   "source": [
    "cv_scores = OrderedDict()\n",
    "\n",
    "if __name__ == '__main__':\n",
    "    for _key_ in classifiers.keys():\n",
    "        cv_scores[_key_] = cross_val_score(classifiers[_key_],\n",
    "                                            X_train, y=Y_train,\n",
    "                                            scoring='accuracy',\n",
    "                                            cv=kfold, n_jobs=nCPU,\n",
    "                                            verbose=True)\n",
    "\n",
    "cv_means, cv_std = OrderedDict(), OrderedDict()\n",
    "for _key_ in classifiers.keys():\n",
    "    cv_means[_key_] = cv_scores[_key_].mean()\n",
    "    cv_std[_key_] = cv_scores[_key_].std()\n",
    "\n",
    "\n",
    "cv_results = pd.DataFrame(data=list(classifiers.keys()), columns=['Algorithms'])\n",
    "for _ix_ in range(n_splits):\n",
    "    for _k_ in classifiers.keys():\n",
    "        cv_results.loc[cv_results['Algorithms']==_k_,\n",
    "                       'score_k='+str(_ix_)] = cv_scores[_k_][_ix_]\n",
    "        cv_results['mean_score'] = cv_results['Algorithms'].map(cv_means)\n",
    "        cv_results['stdev_score'] = cv_results['Algorithms'].map(cv_std)\n",
    "\n",
    "cv_results[['Algorithms', 'mean_score']]"
   ]
  },
  {
   "cell_type": "code",
   "execution_count": 70,
   "metadata": {
    "ExecuteTime": {
     "end_time": "2018-12-13T13:50:44.641144Z",
     "start_time": "2018-12-13T13:50:44.383534Z"
    }
   },
   "outputs": [
    {
     "data": {
      "text/plain": [
       "Text(0.5, 1.0, 'Cross Validation Scores')"
      ]
     },
     "execution_count": 70,
     "metadata": {},
     "output_type": "execute_result"
    },
    {
     "data": {
      "image/png": "[encoded data removed]",
      "text/plain": [
       "<Figure size 720x576 with 1 Axes>"
      ]
     },
     "metadata": {},
     "output_type": "display_data"
    }
   ],
   "source": [
    "fig = plt.figure(figsize=(10,8))\n",
    "ax_cvres = sns.barplot('mean_score', 'Algorithms', data=cv_results,\n",
    "                       orient='h', xerr=cv_results.stdev_score)\n",
    "ax_cvres.set_xlabel('Mean Accuracies')\n",
    "axes = ax_cvres.axes\n",
    "axes.set_xlim(0,1.0)\n",
    "axes.set_xticks(np.arange(0,1.0, 0.025), minor=True)\n",
    "axes.grid(color='gray', which='both', axis='x', alpha=0.5)\n",
    "ax_cvres.set_title('Cross Validation Scores')"
   ]
  },
  {
   "cell_type": "markdown",
   "metadata": {},
   "source": [
    "#### Tuning with GridSearchCV"
   ]
  },
  {
   "cell_type": "code",
   "execution_count": 71,
   "metadata": {
    "ExecuteTime": {
     "end_time": "2018-12-13T13:50:45.418802Z",
     "start_time": "2018-12-13T13:50:45.415245Z"
    }
   },
   "outputs": [],
   "source": [
    "GS_classifiers = OrderedDict()\n",
    "\n",
    "def do_mpfit(model, grid_params, X=X_train, y=Y_train, strat_cv=kfold):\n",
    "    \n",
    "    gsearch_model = GridSearchCV(model, param_grid=grid_params,\n",
    "                                 cv=strat_cv, scoring='accuracy',\n",
    "                                 n_jobs=nCPU, pre_dispatch=2*nCPU,\n",
    "                                 verbose=True)\n",
    "    gsearch_model.fit(X, y)\n",
    "    \n",
    "    return gsearch_model.best_score_, gsearch_model.best_estimator_\n"
   ]
  },
  {
   "cell_type": "code",
   "execution_count": 72,
   "metadata": {
    "ExecuteTime": {
     "end_time": "2018-12-13T13:51:09.790673Z",
     "start_time": "2018-12-13T13:51:01.730291Z"
    },
    "scrolled": true
   },
   "outputs": [
    {
     "name": "stdout",
     "output_type": "stream",
     "text": [
      "Fitting 9 folds for each of 12 candidates, totalling 108 fits\n"
     ]
    },
    {
     "name": "stderr",
     "output_type": "stream",
     "text": [
      "[Parallel(n_jobs=8)]: Using backend LokyBackend with 8 concurrent workers.\n",
      "[Parallel(n_jobs=8)]: Done  34 tasks      | elapsed:    2.6s\n",
      "[Parallel(n_jobs=8)]: Done 108 out of 108 | elapsed:    7.7s finished\n"
     ]
    },
    {
     "name": "stdout",
     "output_type": "stream",
     "text": [
      "(0.8327721661054994, SVC(C=10, cache_size=200, class_weight=None, coef0=0.0,\n",
      "  decision_function_shape='ovr', degree=2, gamma=0.01, kernel='rbf',\n",
      "  max_iter=-1, probability=True, random_state=42, shrinking=True,\n",
      "  tol=0.001, verbose=False))\n"
     ]
    }
   ],
   "source": [
    "#SVC\n",
    "GS_SVC = SVC()\n",
    "\n",
    "#gridparams\n",
    "svc_grid_params = {'kernel' : ['rbf'],\n",
    "                  'gamma' : [0.001, 0.01, 0.1],\n",
    "                  'C' : [1, 10],\n",
    "                  'degree' : [2, 3],\n",
    "                  'shrinking' : [True],\n",
    "                  'probability' : [True],\n",
    "                  'decision_function_shape' : ['ovr'],\n",
    "                  'tol' : [0.001],\n",
    "                  'random_state' : [random_seed]}\n",
    "\n",
    "if __name__ == '__main__':\n",
    "    GS_classifiers['SVC'] = do_mpfit(GS_SVC, svc_grid_params)\n",
    "\n",
    "print(GS_classifiers['SVC'][:]) #83.27"
   ]
  },
  {
   "cell_type": "code",
   "execution_count": 73,
   "metadata": {
    "ExecuteTime": {
     "end_time": "2018-12-13T13:51:27.359381Z",
     "start_time": "2018-12-13T13:51:10.562703Z"
    }
   },
   "outputs": [
    {
     "name": "stdout",
     "output_type": "stream",
     "text": [
      "Fitting 9 folds for each of 36 candidates, totalling 324 fits\n"
     ]
    },
    {
     "name": "stderr",
     "output_type": "stream",
     "text": [
      "[Parallel(n_jobs=8)]: Using backend LokyBackend with 8 concurrent workers.\n",
      "[Parallel(n_jobs=8)]: Done  52 tasks      | elapsed:    2.7s\n",
      "[Parallel(n_jobs=8)]: Done 309 out of 324 | elapsed:   15.5s remaining:    0.8s\n",
      "[Parallel(n_jobs=8)]: Done 324 out of 324 | elapsed:   16.5s finished\n"
     ]
    },
    {
     "name": "stdout",
     "output_type": "stream",
     "text": [
      "(0.8305274971941639, RandomForestClassifier(bootstrap=False, class_weight=None, criterion='gini',\n",
      "            max_depth=9, max_features=3, max_leaf_nodes=None,\n",
      "            min_impurity_decrease=0.0, min_impurity_split=None,\n",
      "            min_samples_leaf=1, min_samples_split=2,\n",
      "            min_weight_fraction_leaf=0.0, n_estimators=300, n_jobs=None,\n",
      "            oob_score=False, random_state=42, verbose=0, warm_start=False))\n"
     ]
    }
   ],
   "source": [
    "#RandomForest\n",
    "\n",
    "GS_RFC = RandomForestClassifier()\n",
    "\n",
    "#gridparams\n",
    "\n",
    "rfc_grid_params = {'n_estimators' : [100, 300],\n",
    "                  'max_features' : [1, 3, 10],\n",
    "                  'max_depth' : [7, 9, 11],\n",
    "                  'criterion' : ['gini', 'entropy'],\n",
    "                  'min_samples_split' : [2],\n",
    "                  'min_samples_leaf' : [1],\n",
    "                  'bootstrap' : [False],\n",
    "                  'random_state' : [random_seed]\n",
    "                  }\n",
    "\n",
    "if __name__ == '__main__':\n",
    "    GS_classifiers['RFC'] = do_mpfit(GS_RFC, rfc_grid_params)\n",
    "\n",
    "print(GS_classifiers['RFC'][:]) #83.05"
   ]
  },
  {
   "cell_type": "code",
   "execution_count": 74,
   "metadata": {
    "ExecuteTime": {
     "end_time": "2018-12-13T13:51:42.066698Z",
     "start_time": "2018-12-13T13:51:28.119224Z"
    }
   },
   "outputs": [
    {
     "name": "stdout",
     "output_type": "stream",
     "text": [
      "Fitting 9 folds for each of 64 candidates, totalling 576 fits\n"
     ]
    },
    {
     "name": "stderr",
     "output_type": "stream",
     "text": [
      "[Parallel(n_jobs=8)]: Using backend LokyBackend with 8 concurrent workers.\n",
      "[Parallel(n_jobs=8)]: Done  88 tasks      | elapsed:    2.4s\n"
     ]
    },
    {
     "name": "stdout",
     "output_type": "stream",
     "text": [
      "(0.8395061728395061, AdaBoostClassifier(algorithm='SAMME.R',\n",
      "          base_estimator=DecisionTreeClassifier(class_weight=None, criterion='entropy', max_depth=5,\n",
      "            max_features='sqrt', max_leaf_nodes=None,\n",
      "            min_impurity_decrease=0.0, min_impurity_split=None,\n",
      "            min_samples_leaf=1, min_samples_split=2,\n",
      "            min_weight_fraction_leaf=0.0, presort=False, random_state=42,\n",
      "            splitter='best'),\n",
      "          learning_rate=0.001, n_estimators=50, random_state=42))\n"
     ]
    },
    {
     "name": "stderr",
     "output_type": "stream",
     "text": [
      "[Parallel(n_jobs=8)]: Done 576 out of 576 | elapsed:   13.9s finished\n"
     ]
    }
   ],
   "source": [
    "#ADABoost\n",
    "\n",
    "AdaDTC = DecisionTreeClassifier()\n",
    "\n",
    "GS_ABC = AdaBoostClassifier(AdaDTC, random_state=random_seed)\n",
    "\n",
    "#gridparams\n",
    "\n",
    "abc_grid_params = {'base_estimator__criterion' : ['gini', 'entropy'],\n",
    "                  'base_estimator__splitter' : ['best', 'random'],\n",
    "                  'base_estimator__max_depth' : [3, 5],\n",
    "                  'base_estimator__max_features' : ['sqrt'],\n",
    "                  'base_estimator__min_samples_split' : [2],\n",
    "                  'base_estimator__min_samples_leaf' : [1],\n",
    "                  'base_estimator__random_state' : [random_seed],\n",
    "                  'base_estimator__presort' : [False],\n",
    "                  'algorithm' : ['SAMME', 'SAMME.R'],\n",
    "                  'n_estimators' : [50, 100],\n",
    "                  'learning_rate' : [0.01, 0.001]              \n",
    "                  }\n",
    "\n",
    "if __name__ == '__main__':\n",
    "    GS_classifiers['ABC'] = do_mpfit(GS_ABC, abc_grid_params)\n",
    "    \n",
    "print(GS_classifiers['ABC'][:]) #83.95"
   ]
  },
  {
   "cell_type": "code",
   "execution_count": 75,
   "metadata": {
    "ExecuteTime": {
     "end_time": "2018-12-13T13:51:53.338015Z",
     "start_time": "2018-12-13T13:51:42.797379Z"
    }
   },
   "outputs": [
    {
     "name": "stdout",
     "output_type": "stream",
     "text": [
      "Fitting 9 folds for each of 36 candidates, totalling 324 fits\n"
     ]
    },
    {
     "name": "stderr",
     "output_type": "stream",
     "text": [
      "[Parallel(n_jobs=8)]: Using backend LokyBackend with 8 concurrent workers.\n",
      "[Parallel(n_jobs=8)]: Done  52 tasks      | elapsed:    1.7s\n"
     ]
    },
    {
     "name": "stdout",
     "output_type": "stream",
     "text": [
      "(0.8406285072951739, GradientBoostingClassifier(criterion='friedman_mse', init=None,\n",
      "              learning_rate=0.05, loss='deviance', max_depth=4,\n",
      "              max_features='log2', max_leaf_nodes=None,\n",
      "              min_impurity_decrease=0.0, min_impurity_split=None,\n",
      "              min_samples_leaf=1, min_samples_split=0.2,\n",
      "              min_weight_fraction_leaf=0.0, n_estimators=300,\n",
      "              n_iter_no_change=None, presort='auto', random_state=42,\n",
      "              subsample=1.0, tol=0.0001, validation_fraction=0.0,\n",
      "              verbose=0, warm_start=False))\n"
     ]
    },
    {
     "name": "stderr",
     "output_type": "stream",
     "text": [
      "[Parallel(n_jobs=8)]: Done 324 out of 324 | elapsed:   10.4s finished\n"
     ]
    }
   ],
   "source": [
    "#GradientBoost\n",
    "\n",
    "GS_GBC = GradientBoostingClassifier()\n",
    "\n",
    "#gridparams\n",
    "\n",
    "gbc_grid_params = {'learning_rate' : [0.01, 0.05],\n",
    "                  'n_estimators' : [200, 300],\n",
    "                  'max_depth' : [3, 4, 5],\n",
    "                  'min_samples_split' : [0.1, 0.2, 0.3],\n",
    "                  'min_samples_leaf' : [1],\n",
    "                  'max_features' : ['log2'],\n",
    "                  'validation_fraction' : [0.0],\n",
    "                  'random_state' : [random_seed]\n",
    "                  }\n",
    "\n",
    "if __name__ == '__main__':\n",
    "    GS_classifiers['GBC'] = do_mpfit(GS_GBC, gbc_grid_params)\n",
    "\n",
    "print(GS_classifiers['GBC'][:]) #84.06"
   ]
  },
  {
   "cell_type": "code",
   "execution_count": 76,
   "metadata": {
    "ExecuteTime": {
     "end_time": "2018-12-13T13:51:56.589531Z",
     "start_time": "2018-12-13T13:51:54.028220Z"
    }
   },
   "outputs": [
    {
     "name": "stdout",
     "output_type": "stream",
     "text": [
      "Fitting 9 folds for each of 18 candidates, totalling 162 fits\n"
     ]
    },
    {
     "name": "stderr",
     "output_type": "stream",
     "text": [
      "[Parallel(n_jobs=8)]: Using backend LokyBackend with 8 concurrent workers.\n",
      "[Parallel(n_jobs=8)]: Done  88 tasks      | elapsed:    1.4s\n"
     ]
    },
    {
     "name": "stdout",
     "output_type": "stream",
     "text": [
      "(0.8282828282828283, ExtraTreesClassifier(bootstrap=False, class_weight=None, criterion='gini',\n",
      "           max_depth=5, max_features='sqrt', max_leaf_nodes=None,\n",
      "           min_impurity_decrease=0.0, min_impurity_split=None,\n",
      "           min_samples_leaf=1, min_samples_split=2,\n",
      "           min_weight_fraction_leaf=0.0, n_estimators=75, n_jobs=None,\n",
      "           oob_score=False, random_state=42, verbose=0, warm_start=False))\n"
     ]
    },
    {
     "name": "stderr",
     "output_type": "stream",
     "text": [
      "[Parallel(n_jobs=8)]: Done 162 out of 162 | elapsed:    2.5s finished\n"
     ]
    }
   ],
   "source": [
    "#ExtraTrees\n",
    "\n",
    "GS_ETC = ExtraTreesClassifier()\n",
    "\n",
    "#gridparams\n",
    "\n",
    "etc_grid_params = {'n_estimators' : [50, 75, 100],\n",
    "                  'criterion' : ['gini'],\n",
    "                  'max_depth' : [4, 5, 6],\n",
    "                  'min_samples_split' : [2, 0.05],\n",
    "                  'min_samples_leaf' : [1],\n",
    "                  'max_features' : ['sqrt'],\n",
    "                  'random_state' : [random_seed]\n",
    "                  }\n",
    "\n",
    "if __name__ == '__main__':\n",
    "    GS_classifiers['ETC'] = do_mpfit(GS_ETC, etc_grid_params)\n",
    "\n",
    "print(GS_classifiers['ETC'][:]) #82.82"
   ]
  },
  {
   "cell_type": "code",
   "execution_count": 77,
   "metadata": {
    "ExecuteTime": {
     "end_time": "2018-12-13T13:51:57.347543Z",
     "start_time": "2018-12-13T13:51:57.303217Z"
    }
   },
   "outputs": [],
   "source": [
    "# saving model details\n",
    "\n",
    "with open('../data/exported/GS_classifiers.dat', 'wb') as file:\n",
    "    pickle.dump(GS_classifiers, file, protocol = -1)\n",
    "    file.close()"
   ]
  },
  {
   "cell_type": "code",
   "execution_count": 79,
   "metadata": {
    "ExecuteTime": {
     "end_time": "2018-12-13T13:53:34.108681Z",
     "start_time": "2018-12-13T13:53:33.867452Z"
    }
   },
   "outputs": [
    {
     "data": {
      "text/plain": [
       "odict_keys(['SVC', 'RFC', 'ABC', 'GBC', 'ETC'])"
      ]
     },
     "execution_count": 79,
     "metadata": {},
     "output_type": "execute_result"
    }
   ],
   "source": [
    "# load saved file:\n",
    "\n",
    "with open('../data/exported/GS_classifiers.dat', 'rb') as file:\n",
    "    GSC_file = pickle.load(file, errors='strict')\n",
    "    file.close()\n",
    "    \n",
    "GSC_file.keys()"
   ]
  },
  {
   "cell_type": "code",
   "execution_count": 80,
   "metadata": {
    "ExecuteTime": {
     "end_time": "2018-12-13T13:54:27.146883Z",
     "start_time": "2018-12-13T13:54:27.143769Z"
    }
   },
   "outputs": [
    {
     "data": {
      "text/plain": [
       "((891, 127), (891,))"
      ]
     },
     "execution_count": 80,
     "metadata": {},
     "output_type": "execute_result"
    }
   ],
   "source": [
    "X_train.shape, Y_train.shape"
   ]
  },
  {
   "cell_type": "code",
   "execution_count": 99,
   "metadata": {
    "ExecuteTime": {
     "end_time": "2018-12-13T14:37:51.576503Z",
     "start_time": "2018-12-13T14:37:51.379019Z"
    }
   },
   "outputs": [
    {
     "name": "stdout",
     "output_type": "stream",
     "text": [
      "_________________________________________________________________\n",
      "Layer (type)                 Output Shape              Param #   \n",
      "=================================================================\n",
      "input_29 (InputLayer)        (None, 127)               0         \n",
      "_________________________________________________________________\n",
      "dense_109 (Dense)            (None, 50)                6400      \n",
      "_________________________________________________________________\n",
      "dropout_77 (Dropout)         (None, 50)                0         \n",
      "_________________________________________________________________\n",
      "dense_110 (Dense)            (None, 100)               5100      \n",
      "_________________________________________________________________\n",
      "dropout_78 (Dropout)         (None, 100)               0         \n",
      "_________________________________________________________________\n",
      "dense_111 (Dense)            (None, 100)               10100     \n",
      "_________________________________________________________________\n",
      "dropout_79 (Dropout)         (None, 100)               0         \n",
      "_________________________________________________________________\n",
      "dense_112 (Dense)            (None, 50)                5050      \n",
      "_________________________________________________________________\n",
      "dropout_80 (Dropout)         (None, 50)                0         \n",
      "_________________________________________________________________\n",
      "dense_113 (Dense)            (None, 1)                 51        \n",
      "=================================================================\n",
      "Total params: 26,701\n",
      "Trainable params: 26,701\n",
      "Non-trainable params: 0\n",
      "_________________________________________________________________\n"
     ]
    },
    {
     "data": {
      "text/plain": [
       "(None, None)"
      ]
     },
     "execution_count": 99,
     "metadata": {},
     "output_type": "execute_result"
    }
   ],
   "source": [
    "# Using MLP\n",
    "\n",
    "\n",
    "mydense = partial(Dense, kernel_initializer='glorot_normal',\n",
    "                  bias_initializer='glorot_uniform')\n",
    "\n",
    "def mlpclassifier(input_arr=X_train,\n",
    "                  size=(50,50),\n",
    "                  dropout_rate:float=0.25,\n",
    "                  activation='relu',\n",
    "                  optimizer = 'adam'\n",
    "                  seed=random_seed):\n",
    "    \n",
    "    inp = Input(shape=(input_arr.shape[1],))\n",
    "    \n",
    "    hidden = mydense(size[0], \n",
    "                     activation=activation)(inp)\n",
    "    \n",
    "    for rems_ in size[1:]:\n",
    "        drop = Dropout(rate=dropout, seed=random_seed)(hidden)\n",
    "        hidden = mydense(rems_,\n",
    "                         activation=activation)(drop)\n",
    "    \n",
    "    drop = Dropout(rate=dropout, seed=random_seed)(hidden)\n",
    "    out =  mydense(1, activation='sigmoid')(drop)\n",
    "    \n",
    "    resmodel = Model(inputs=inp, outputs=out)\n",
    "    print()\n",
    "    return resmodel.compile\n",
    "\n",
    "def compilemodel(model=mlpclassifier(), optimizer='adam'):\n",
    "    \n",
    "    retmodel = model.compile(optimizer=optimizer, \n",
    "                             loss='binary_crossentropy',\n",
    "                             metrics=['accuracy'])\n",
    "    return retmodel\n",
    "\n",
    "#test\n",
    "mlpmodel = mlpclassifier(size=(50,100,100,50))\n",
    "compiled_mlp = compilemodel(model=mlpmodel)\n",
    "\n",
    "mlpmodel.summary(), compiled_mlp"
   ]
  },
  {
   "cell_type": "code",
   "execution_count": 106,
   "metadata": {
    "ExecuteTime": {
     "end_time": "2018-12-13T14:52:25.547513Z",
     "start_time": "2018-12-13T14:52:25.481360Z"
    }
   },
   "outputs": [
    {
     "name": "stdout",
     "output_type": "stream",
     "text": [
      "_________________________________________________________________\n",
      "Layer (type)                 Output Shape              Param #   \n",
      "=================================================================\n",
      "input_32 (InputLayer)        (None, 127)               0         \n",
      "_________________________________________________________________\n",
      "dense_115 (Dense)            (None, 50)                6400      \n",
      "_________________________________________________________________\n",
      "dropout_81 (Dropout)         (None, 50)                0         \n",
      "_________________________________________________________________\n",
      "dense_116 (Dense)            (None, 50)                2550      \n",
      "_________________________________________________________________\n",
      "dropout_82 (Dropout)         (None, 50)                0         \n",
      "_________________________________________________________________\n",
      "dense_117 (Dense)            (None, 1)                 51        \n",
      "=================================================================\n",
      "Total params: 9,001\n",
      "Trainable params: 9,001\n",
      "Non-trainable params: 0\n",
      "_________________________________________________________________\n"
     ]
    }
   ],
   "source": [
    "from keras.models import Model\n",
    "from keras.wrappers.scikit_learn import KerasClassifier\n",
    "from functools import partial\n",
    "\n",
    "class mymlpmodel:\n",
    "    \n",
    "    mydense = partial(Dense, \n",
    "                      kernel_initializer='glorot_normal',\n",
    "                      bias_initializer='glorot_uniform')\n",
    "    \n",
    "    def __init__(self, input_arr=X_train,\n",
    "                  size=(50,50),\n",
    "                  dropout_rate:float=0.25,\n",
    "                  activation='relu',\n",
    "                  optimizer = 'adam',\n",
    "                  seed=random_seed):\n",
    "        \n",
    "        self.input_arr = input_arr\n",
    "        self.size = size\n",
    "        self.modelsize = size\n",
    "        self.dropout_rate = dropout_rate\n",
    "        self.activation = activation\n",
    "        self.optimizer = optimizer\n",
    "        self.classifier = 'sigmoid'\n",
    "        self.loss = 'binary_crossentropy'\n",
    "        self.metric = 'accuracy'\n",
    "        self.random_seed = seed\n",
    "        self.model = None\n",
    "        self.compiledmodel = None\n",
    "        \n",
    "    def makemodel(self):\n",
    "        \n",
    "        inp = Input(shape=(self.input_arr.shape[1],))\n",
    "    \n",
    "        hidden = self.mydense(self.size[0],\n",
    "                              activation=self.activation)(inp)\n",
    "    \n",
    "        for rems_ in self.size[1:]:\n",
    "            drop = Dropout(rate=self.dropout_rate, \n",
    "                           seed=self.random_seed)(hidden)\n",
    "            hidden = mydense(rems_,\n",
    "                             activation=self.activation)(drop)\n",
    "\n",
    "        drop = Dropout(rate=self.dropout_rate,\n",
    "                       seed=self.random_seed)(hidden)\n",
    "\n",
    "        out =  self.mydense(1, activation=self.classifier)(drop)\n",
    "        resmodel = Model(inputs=inp, outputs=out)\n",
    "        self.model = resmodel\n",
    "        return self.model\n",
    "\n",
    "    def compiledmodel(self):\n",
    "        \n",
    "        self.compiledmodel =  self.makemodel.compile(optimizer = self.optimizer,\n",
    "                                                     loss = self.loss,\n",
    "                                                     metrics = [self.metric,])\n",
    "        return self.compiledmodel\n",
    "    \n",
    "    def summary(self):\n",
    "        self.__repr__()\n",
    "    \n",
    "    def __repr__(self):\n",
    "        \n",
    "        if not self.model ==  None:\n",
    "            return self.model.summary()\n",
    "        \n",
    "        \n",
    "        \n",
    "# test\n",
    "\n",
    "mlpmodel = mymlpmodel()\n",
    "mlpmodel.makemodel()\n",
    "mlpmodel.summary()"
   ]
  },
  {
   "cell_type": "code",
   "execution_count": null,
   "metadata": {},
   "outputs": [],
   "source": []
  }
 ],
 "metadata": {
  "kernelspec": {
   "display_name": "Python 3",
   "language": "python",
   "name": "python3"
  },
  "language_info": {
   "codemirror_mode": {
    "name": "ipython",
    "version": 3
   },
   "file_extension": ".py",
   "mimetype": "text/x-python",
   "name": "python",
   "nbconvert_exporter": "python",
   "pygments_lexer": "ipython3",
   "version": "3.6.7"
  },
  "nbTranslate": {
   "displayLangs": [
    "*"
   ],
   "hotkey": "alt-t",
   "langInMainMenu": true,
   "sourceLang": "en",
   "targetLang": "fr",
   "useGoogleTranslate": true
  },
  "varInspector": {
   "cols": {
    "lenName": 16,
    "lenType": 16,
    "lenVar": 40
   },
   "kernels_config": {
    "python": {
     "delete_cmd_postfix": "",
     "delete_cmd_prefix": "del ",
     "library": "var_list.py",
     "varRefreshCmd": "print(var_dic_list())"
    },
    "r": {
     "delete_cmd_postfix": ") ",
     "delete_cmd_prefix": "rm(",
     "library": "var_list.r",
     "varRefreshCmd": "cat(var_dic_list()) "
    }
   },
   "types_to_exclude": [
    "module",
    "function",
    "builtin_function_or_method",
    "instance",
    "_Feature"
   ],
   "window_display": false
  },
  "widgets": {
   "application/vnd.jupyter.widget-state+json": {
    "state": {},
    "version_major": 2,
    "version_minor": 0
   }
  }
 },
 "nbformat": 4,
 "nbformat_minor": 2
}
