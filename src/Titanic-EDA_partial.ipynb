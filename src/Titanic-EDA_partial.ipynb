{
 "cells": [
  {
   "cell_type": "code",
   "execution_count": 9,
   "metadata": {
    "ExecuteTime": {
     "end_time": "2018-12-09T15:02:03.885357Z",
     "start_time": "2018-12-09T15:02:03.877967Z"
    },
    "pixiedust": {
     "displayParams": {}
    }
   },
   "outputs": [],
   "source": [
    "import pixiedust\n",
    "from matplotlib import pyplot as plt\n",
    "import seaborn as sns\n",
    "import numpy as np\n",
    "import pandas as pd\n",
    "from keras.layers import *\n",
    "import sys, os, pickle\n",
    "from collections import OrderedDict as ODict\n",
    "\n",
    "# %pixie_debugger\n",
    "%matplotlib inline\n",
    "sns.set(style='white', context='notebook', palette='husl')"
   ]
  },
  {
   "cell_type": "code",
   "execution_count": 10,
   "metadata": {
    "ExecuteTime": {
     "end_time": "2018-12-09T15:02:04.738807Z",
     "start_time": "2018-12-09T15:02:04.726555Z"
    }
   },
   "outputs": [
    {
     "data": {
      "text/plain": [
       "(odict_keys(['train.csv', 'test.csv', 'gender_submission.csv']),\n",
       " ['train.csv', 'test.csv', 'gender_submission.csv'])"
      ]
     },
     "execution_count": 10,
     "metadata": {},
     "output_type": "execute_result"
    }
   ],
   "source": [
    "datadir = os.getcwd() + '/../data'\n",
    "datadict, filenames = ODict(), []\n",
    "for files in os.listdir(datadir):\n",
    "    if filenames not in filenames:\n",
    "        filenames.append(files)\n",
    "    with open(datadir + '/' + files, mode='r') as csvfile:\n",
    "        datadict[files] = pd.read_csv(csvfile, header=0)\n",
    "        csvfile.close()\n",
    "datadict.keys(), filenames"
   ]
  },
  {
   "cell_type": "code",
   "execution_count": 12,
   "metadata": {
    "ExecuteTime": {
     "end_time": "2018-12-09T15:02:47.358205Z",
     "start_time": "2018-12-09T15:02:47.345534Z"
    }
   },
   "outputs": [
    {
     "name": "stdout",
     "output_type": "stream",
     "text": [
      "891 Rows\n",
      "<class 'pandas.core.frame.DataFrame'>\n",
      "RangeIndex: 891 entries, 0 to 890\n",
      "Data columns (total 12 columns):\n",
      "PassengerId    891 non-null int64\n",
      "Survived       891 non-null int64\n",
      "Pclass         891 non-null int64\n",
      "Name           891 non-null object\n",
      "Sex            891 non-null object\n",
      "Age            714 non-null float64\n",
      "SibSp          891 non-null int64\n",
      "Parch          891 non-null int64\n",
      "Ticket         891 non-null object\n",
      "Fare           891 non-null float64\n",
      "Cabin          204 non-null object\n",
      "Embarked       889 non-null object\n",
      "dtypes: float64(2), int64(5), object(5)\n",
      "memory usage: 83.6+ KB\n"
     ]
    }
   ],
   "source": [
    "# %%\n",
    "# Print out data, for quick look.\n",
    "\n",
    "genderdata = datadict[filenames[-1]]\n",
    "traindata = datadict[filenames[0]]\n",
    "testdata = datadict[filenames[1]]\n",
    "\n",
    "print(traindata.shape[0],\"Rows\")\n",
    "traindata.set_index('PassengerId')\n",
    "traindata.info()"
   ]
  },
  {
   "cell_type": "code",
   "execution_count": 16,
   "metadata": {
    "ExecuteTime": {
     "end_time": "2018-12-09T15:03:29.619050Z",
     "start_time": "2018-12-09T15:03:29.611949Z"
    }
   },
   "outputs": [
    {
     "name": "stdout",
     "output_type": "stream",
     "text": [
      "<class 'pandas.core.frame.DataFrame'>\n",
      "RangeIndex: 418 entries, 0 to 417\n",
      "Data columns (total 11 columns):\n",
      "PassengerId    418 non-null int64\n",
      "Pclass         418 non-null int64\n",
      "Name           418 non-null object\n",
      "Sex            418 non-null object\n",
      "Age            332 non-null float64\n",
      "SibSp          418 non-null int64\n",
      "Parch          418 non-null int64\n",
      "Ticket         418 non-null object\n",
      "Fare           417 non-null float64\n",
      "Cabin          91 non-null object\n",
      "Embarked       418 non-null object\n",
      "dtypes: float64(2), int64(4), object(5)\n",
      "memory usage: 36.0+ KB\n"
     ]
    }
   ],
   "source": [
    "testdata.set_index('PassengerId')\n",
    "testdata.info()"
   ]
  },
  {
   "cell_type": "code",
   "execution_count": 15,
   "metadata": {
    "ExecuteTime": {
     "end_time": "2018-12-09T15:03:08.262407Z",
     "start_time": "2018-12-09T15:03:08.256746Z"
    }
   },
   "outputs": [
    {
     "name": "stdout",
     "output_type": "stream",
     "text": [
      "<class 'pandas.core.frame.DataFrame'>\n",
      "RangeIndex: 418 entries, 0 to 417\n",
      "Data columns (total 2 columns):\n",
      "PassengerId    418 non-null int64\n",
      "Survived       418 non-null int64\n",
      "dtypes: int64(2)\n",
      "memory usage: 6.6 KB\n"
     ]
    }
   ],
   "source": [
    "genderdata.info()"
   ]
  },
  {
   "cell_type": "code",
   "execution_count": 22,
   "metadata": {
    "ExecuteTime": {
     "end_time": "2018-12-09T15:05:07.640288Z",
     "start_time": "2018-12-09T15:05:07.633086Z"
    }
   },
   "outputs": [
    {
     "data": {
      "text/plain": [
       "PassengerId      1.000000\n",
       "Survived       445.500000\n",
       "Pclass         297.000000\n",
       "Name             1.000000\n",
       "Sex            445.500000\n",
       "Age             10.125000\n",
       "SibSp          127.285714\n",
       "Parch          127.285714\n",
       "Ticket           1.308370\n",
       "Fare             3.592742\n",
       "Cabin            6.061224\n",
       "Embarked       297.000000\n",
       "dtype: float64"
      ]
     },
     "execution_count": 22,
     "metadata": {},
     "output_type": "execute_result"
    }
   ],
   "source": [
    "# check sample sizes per class per column\n",
    "len(traindata)/traindata.nunique()"
   ]
  },
  {
   "cell_type": "code",
   "execution_count": null,
   "metadata": {},
   "outputs": [],
   "source": [
    "#set categorical values and create working dataframe copy\n",
    "\n",
    "catcolumns  = ['Pclass','Sex','Ticket','Fare','Cabin','Embarked']\n",
    "for _col_ in catcolumns:\n",
    "    traindata[_col_] = traindata[_col_].astype('category')\n",
    "    \n",
    "traindata['Name'] = traindata.Name.astype(str)\n",
    "    \n",
    "print('All OK!' if (missingdata == traindata.isnull().sum()).all() else 'Bad Op')\n",
    "\n",
    "nomissing = traindata.drop(['Cabin','Embarked'],axis=1).copy()\n",
    "nomissing.isnull().sum()"
   ]
  },
  {
   "cell_type": "code",
   "execution_count": null,
   "metadata": {},
   "outputs": [],
   "source": [
    "# Whats in a name ?\n",
    "\n",
    "Prefixes = ['Mr.','Mrs.','Master.','Miss.','Don.','Dr.','Rev.','Col.','Major.','Ms.','Mme.','Lady.','Sir.','Mlle.','Countess.','Capt.','Jonkheer.']\n",
    "\n",
    "def chk_prefix(s)->str:\n",
    "    for _pf_ in Prefixes:\n",
    "        if _pf_ in s:\n",
    "            return _pf_\n",
    "    print(s)\n",
    "    return None\n",
    "\n",
    "def extract_FamilyName(s)->str:\n",
    "    return s.split(',')[0]\n",
    "\n",
    "Namedata = traindata[['PassengerId','Name']].copy()\n",
    "Namedata['Prefixes'] = traindata.loc[:,('Name')].astype(str).apply(chk_prefix)\n",
    "Namedata['FamilyNames'] = traindata.loc[:,('Name')].astype(str).apply(extract_FamilyName)\n",
    "\n",
    "print(Namedata.nunique(),\"\\n\\n\",Namedata.isnull().sum())"
   ]
  },
  {
   "cell_type": "code",
   "execution_count": null,
   "metadata": {},
   "outputs": [],
   "source": [
    "workingdf = nomissing.drop(['Name','Survived'],axis=1).join(Namedata.set_index('PassengerId').drop(['Name'],axis=1), on='PassengerId')\n",
    "workingdf.isnull().sum()"
   ]
  },
  {
   "cell_type": "code",
   "execution_count": null,
   "metadata": {},
   "outputs": [],
   "source": [
    "workingdf['Sex'] = workingdf.Sex.astype('category').cat.codes\n",
    "workingdf['Pclass'] = workingdf.Pclass.astype('category').cat.codes\n",
    "workingdf['SibSp'] = workingdf.SibSp.astype('category').cat.codes\n",
    "workingdf['Parch'] = workingdf.Parch.astype('category').cat.codes\n",
    "workingdf['Ticket'] = workingdf.Ticket.astype('category').cat.codes\n",
    "workingdf['Fare'] = workingdf.Fare.astype('category').cat.codes\n",
    "workingdf['Prefixes'] = workingdf.Prefixes.astype('category').cat.codes\n",
    "workingdf['FamilyNames'] = workingdf.FamilyNames.astype('category').cat.codes\n",
    "workingdf.head()"
   ]
  },
  {
   "cell_type": "code",
   "execution_count": null,
   "metadata": {},
   "outputs": [],
   "source": [
    "from fancyimpute import KNN as impKNN\n",
    "\n",
    "minage, maxage = workingdf.Age.dropna().min(), workingdf.Age.dropna().max()\n",
    "newcols = [x for x in workingdf.columns if not x=='PassengerId']\n",
    "\n",
    "agepredictor = impKNN(k=5,min_value=minage,max_value=maxage)\n",
    "ages_df = pd.DataFrame(data=agepredictor.fit_transform(workingdf.drop(['PassengerId'],axis=1)),\n",
    "                     columns=newcols,\n",
    "                     index=workingdf.index)\n",
    "\n",
    "ages_df['PassengerId']=workingdf['PassengerId']\n",
    "ages_df['Old_Age']=workingdf['Age']"
   ]
  },
  {
   "cell_type": "code",
   "execution_count": null,
   "metadata": {},
   "outputs": [],
   "source": [
    "ages_df[ages_df.Old_Age.isnull()].Age.max(), ages_df[ages_df.Old_Age.isnull()].Age.min()"
   ]
  },
  {
   "cell_type": "code",
   "execution_count": null,
   "metadata": {},
   "outputs": [],
   "source": [
    "# Predicting Cabins (W/o using predicted ages)\n",
    "\n",
    "workingdf['Cabin']= traindata.Cabin.astype('category').cat.codes\n",
    "workingdf.Cabin.replace(to_replace=-1,value=float('nan'),inplace=True)\n",
    "\n",
    "workingdf['Age_Class'] = workingdf.Age.fillna(-1).apply(np.int)\n",
    "\n",
    "\n",
    "mincab, maxcab = workingdf[workingdf.Cabin >= 0].Cabin.min(), workingdf[workingdf.Cabin >= 0].Cabin.max()\n",
    "\n",
    "dropcols = ['PassengerId','Age','Sex','SibSp','Parch','Ticket','FamilyNames']\n",
    "newcols = [x for x in workingdf.columns if x not in dropcols]\n",
    "\n",
    "cab_predictor = impKNN(k=5,min_value=minage,max_value=maxage)\n",
    "cab_df = pd.DataFrame(data=cab_predictor.fit_transform(workingdf.drop(dropcols,axis=1)),\n",
    "                     columns=newcols,\n",
    "                     index=workingdf.index)\n",
    "\n",
    "cab_df['PassengerId']=workingdf['PassengerId']\n",
    "# cab_df['Age']=workingdf['Age']\n",
    "cab_df['Orig_Cabin']=workingdf['Cabin']\n",
    "cab_df.set_index('PassengerId',inplace=True)"
   ]
  },
  {
   "cell_type": "code",
   "execution_count": null,
   "metadata": {},
   "outputs": [],
   "source": [
    "cab_df.head()"
   ]
  },
  {
   "cell_type": "code",
   "execution_count": null,
   "metadata": {},
   "outputs": [],
   "source": [
    "#is it even worth predicting cabins ?\n",
    "\n",
    "trncset, tstcset = set(traindata.Cabin.dropna()),set(testdata.Cabin.dropna())\n",
    "len(trncset),len(tstcset),len(trncset-tstcset),len(tstcset-trncset)"
   ]
  }
 ],
 "metadata": {
  "kernelspec": {
   "display_name": "Python 3",
   "language": "python",
   "name": "python3"
  },
  "language_info": {
   "codemirror_mode": {
    "name": "ipython",
    "version": 3
   },
   "file_extension": ".py",
   "mimetype": "text/x-python",
   "name": "python",
   "nbconvert_exporter": "python",
   "pygments_lexer": "ipython3",
   "version": "3.6.7"
  },
  "nbTranslate": {
   "displayLangs": [
    "*"
   ],
   "hotkey": "alt-t",
   "langInMainMenu": true,
   "sourceLang": "en",
   "targetLang": "fr",
   "useGoogleTranslate": true
  },
  "varInspector": {
   "cols": {
    "lenName": 16,
    "lenType": 16,
    "lenVar": 40
   },
   "kernels_config": {
    "python": {
     "delete_cmd_postfix": "",
     "delete_cmd_prefix": "del ",
     "library": "var_list.py",
     "varRefreshCmd": "print(var_dic_list())"
    },
    "r": {
     "delete_cmd_postfix": ") ",
     "delete_cmd_prefix": "rm(",
     "library": "var_list.r",
     "varRefreshCmd": "cat(var_dic_list()) "
    }
   },
   "types_to_exclude": [
    "module",
    "function",
    "builtin_function_or_method",
    "instance",
    "_Feature"
   ],
   "window_display": false
  }
 },
 "nbformat": 4,
 "nbformat_minor": 2
}
